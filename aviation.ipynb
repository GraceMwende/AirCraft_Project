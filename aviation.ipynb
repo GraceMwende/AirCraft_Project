{
 "cells": [
  {
   "cell_type": "markdown",
   "metadata": {},
   "source": [
    "# Python Data Cleaning and Analysis"
   ]
  },
  {
   "cell_type": "markdown",
   "metadata": {},
   "source": [
    "### 1a)Importing Libraries"
   ]
  },
  {
   "cell_type": "code",
   "execution_count": 153,
   "metadata": {},
   "outputs": [],
   "source": [
    "#importing Libraries we need\n",
    "\n",
    "#import the pandas library\n",
    "import pandas as pd\n",
    "#import numpy library\n",
    "import numpy as np\n",
    "#import the seaborn library\n",
    "import seaborn as sns\n",
    "#import matplotlib library\n",
    "import matplotlib.pyplot as plt"
   ]
  },
  {
   "cell_type": "markdown",
   "metadata": {},
   "source": [
    "### b)Reading the Dataset from our CSV file\n",
    "Dataset from National Transportation Safety Board that contains accident data from 1962 to 2023 about civil aviation accidents and selected incidents in the united states and international waters"
   ]
  },
  {
   "cell_type": "code",
   "execution_count": 154,
   "metadata": {},
   "outputs": [],
   "source": [
    "#lets read the data from the csv file and create a dataframe to be used\n",
    "df = pd.read_csv('data\\AviationData.csv',encoding='latin-1',low_memory=False)"
   ]
  },
  {
   "cell_type": "markdown",
   "metadata": {},
   "source": [
    "### c)Previewing our dataset"
   ]
  },
  {
   "cell_type": "code",
   "execution_count": 155,
   "metadata": {},
   "outputs": [
    {
     "data": {
      "text/html": [
       "<div>\n",
       "<style scoped>\n",
       "    .dataframe tbody tr th:only-of-type {\n",
       "        vertical-align: middle;\n",
       "    }\n",
       "\n",
       "    .dataframe tbody tr th {\n",
       "        vertical-align: top;\n",
       "    }\n",
       "\n",
       "    .dataframe thead th {\n",
       "        text-align: right;\n",
       "    }\n",
       "</style>\n",
       "<table border=\"1\" class=\"dataframe\">\n",
       "  <thead>\n",
       "    <tr style=\"text-align: right;\">\n",
       "      <th></th>\n",
       "      <th>Event.Id</th>\n",
       "      <th>Investigation.Type</th>\n",
       "      <th>Accident.Number</th>\n",
       "      <th>Event.Date</th>\n",
       "      <th>Location</th>\n",
       "      <th>Country</th>\n",
       "      <th>Latitude</th>\n",
       "      <th>Longitude</th>\n",
       "      <th>Airport.Code</th>\n",
       "      <th>Airport.Name</th>\n",
       "      <th>Injury.Severity</th>\n",
       "      <th>Aircraft.damage</th>\n",
       "      <th>Aircraft.Category</th>\n",
       "      <th>Registration.Number</th>\n",
       "      <th>Make</th>\n",
       "      <th>Model</th>\n",
       "      <th>Amateur.Built</th>\n",
       "      <th>Number.of.Engines</th>\n",
       "      <th>Engine.Type</th>\n",
       "      <th>FAR.Description</th>\n",
       "      <th>Schedule</th>\n",
       "      <th>Purpose.of.flight</th>\n",
       "      <th>Air.carrier</th>\n",
       "      <th>Total.Fatal.Injuries</th>\n",
       "      <th>Total.Serious.Injuries</th>\n",
       "      <th>Total.Minor.Injuries</th>\n",
       "      <th>Total.Uninjured</th>\n",
       "      <th>Weather.Condition</th>\n",
       "      <th>Broad.phase.of.flight</th>\n",
       "      <th>Report.Status</th>\n",
       "      <th>Publication.Date</th>\n",
       "    </tr>\n",
       "  </thead>\n",
       "  <tbody>\n",
       "    <tr>\n",
       "      <th>0</th>\n",
       "      <td>20001218X45444</td>\n",
       "      <td>Accident</td>\n",
       "      <td>SEA87LA080</td>\n",
       "      <td>1948-10-24</td>\n",
       "      <td>MOOSE CREEK, ID</td>\n",
       "      <td>United States</td>\n",
       "      <td>NaN</td>\n",
       "      <td>NaN</td>\n",
       "      <td>NaN</td>\n",
       "      <td>NaN</td>\n",
       "      <td>Fatal(2)</td>\n",
       "      <td>Destroyed</td>\n",
       "      <td>NaN</td>\n",
       "      <td>NC6404</td>\n",
       "      <td>Stinson</td>\n",
       "      <td>108-3</td>\n",
       "      <td>No</td>\n",
       "      <td>1.0</td>\n",
       "      <td>Reciprocating</td>\n",
       "      <td>NaN</td>\n",
       "      <td>NaN</td>\n",
       "      <td>Personal</td>\n",
       "      <td>NaN</td>\n",
       "      <td>2.0</td>\n",
       "      <td>0.0</td>\n",
       "      <td>0.0</td>\n",
       "      <td>0.0</td>\n",
       "      <td>UNK</td>\n",
       "      <td>Cruise</td>\n",
       "      <td>Probable Cause</td>\n",
       "      <td>NaN</td>\n",
       "    </tr>\n",
       "    <tr>\n",
       "      <th>1</th>\n",
       "      <td>20001218X45447</td>\n",
       "      <td>Accident</td>\n",
       "      <td>LAX94LA336</td>\n",
       "      <td>1962-07-19</td>\n",
       "      <td>BRIDGEPORT, CA</td>\n",
       "      <td>United States</td>\n",
       "      <td>NaN</td>\n",
       "      <td>NaN</td>\n",
       "      <td>NaN</td>\n",
       "      <td>NaN</td>\n",
       "      <td>Fatal(4)</td>\n",
       "      <td>Destroyed</td>\n",
       "      <td>NaN</td>\n",
       "      <td>N5069P</td>\n",
       "      <td>Piper</td>\n",
       "      <td>PA24-180</td>\n",
       "      <td>No</td>\n",
       "      <td>1.0</td>\n",
       "      <td>Reciprocating</td>\n",
       "      <td>NaN</td>\n",
       "      <td>NaN</td>\n",
       "      <td>Personal</td>\n",
       "      <td>NaN</td>\n",
       "      <td>4.0</td>\n",
       "      <td>0.0</td>\n",
       "      <td>0.0</td>\n",
       "      <td>0.0</td>\n",
       "      <td>UNK</td>\n",
       "      <td>Unknown</td>\n",
       "      <td>Probable Cause</td>\n",
       "      <td>19-09-1996</td>\n",
       "    </tr>\n",
       "    <tr>\n",
       "      <th>2</th>\n",
       "      <td>20061025X01555</td>\n",
       "      <td>Accident</td>\n",
       "      <td>NYC07LA005</td>\n",
       "      <td>1974-08-30</td>\n",
       "      <td>Saltville, VA</td>\n",
       "      <td>United States</td>\n",
       "      <td>36.922223</td>\n",
       "      <td>-81.878056</td>\n",
       "      <td>NaN</td>\n",
       "      <td>NaN</td>\n",
       "      <td>Fatal(3)</td>\n",
       "      <td>Destroyed</td>\n",
       "      <td>NaN</td>\n",
       "      <td>N5142R</td>\n",
       "      <td>Cessna</td>\n",
       "      <td>172M</td>\n",
       "      <td>No</td>\n",
       "      <td>1.0</td>\n",
       "      <td>Reciprocating</td>\n",
       "      <td>NaN</td>\n",
       "      <td>NaN</td>\n",
       "      <td>Personal</td>\n",
       "      <td>NaN</td>\n",
       "      <td>3.0</td>\n",
       "      <td>NaN</td>\n",
       "      <td>NaN</td>\n",
       "      <td>NaN</td>\n",
       "      <td>IMC</td>\n",
       "      <td>Cruise</td>\n",
       "      <td>Probable Cause</td>\n",
       "      <td>26-02-2007</td>\n",
       "    </tr>\n",
       "    <tr>\n",
       "      <th>3</th>\n",
       "      <td>20001218X45448</td>\n",
       "      <td>Accident</td>\n",
       "      <td>LAX96LA321</td>\n",
       "      <td>1977-06-19</td>\n",
       "      <td>EUREKA, CA</td>\n",
       "      <td>United States</td>\n",
       "      <td>NaN</td>\n",
       "      <td>NaN</td>\n",
       "      <td>NaN</td>\n",
       "      <td>NaN</td>\n",
       "      <td>Fatal(2)</td>\n",
       "      <td>Destroyed</td>\n",
       "      <td>NaN</td>\n",
       "      <td>N1168J</td>\n",
       "      <td>Rockwell</td>\n",
       "      <td>112</td>\n",
       "      <td>No</td>\n",
       "      <td>1.0</td>\n",
       "      <td>Reciprocating</td>\n",
       "      <td>NaN</td>\n",
       "      <td>NaN</td>\n",
       "      <td>Personal</td>\n",
       "      <td>NaN</td>\n",
       "      <td>2.0</td>\n",
       "      <td>0.0</td>\n",
       "      <td>0.0</td>\n",
       "      <td>0.0</td>\n",
       "      <td>IMC</td>\n",
       "      <td>Cruise</td>\n",
       "      <td>Probable Cause</td>\n",
       "      <td>12-09-2000</td>\n",
       "    </tr>\n",
       "    <tr>\n",
       "      <th>4</th>\n",
       "      <td>20041105X01764</td>\n",
       "      <td>Accident</td>\n",
       "      <td>CHI79FA064</td>\n",
       "      <td>1979-08-02</td>\n",
       "      <td>Canton, OH</td>\n",
       "      <td>United States</td>\n",
       "      <td>NaN</td>\n",
       "      <td>NaN</td>\n",
       "      <td>NaN</td>\n",
       "      <td>NaN</td>\n",
       "      <td>Fatal(1)</td>\n",
       "      <td>Destroyed</td>\n",
       "      <td>NaN</td>\n",
       "      <td>N15NY</td>\n",
       "      <td>Cessna</td>\n",
       "      <td>501</td>\n",
       "      <td>No</td>\n",
       "      <td>NaN</td>\n",
       "      <td>NaN</td>\n",
       "      <td>NaN</td>\n",
       "      <td>NaN</td>\n",
       "      <td>Personal</td>\n",
       "      <td>NaN</td>\n",
       "      <td>1.0</td>\n",
       "      <td>2.0</td>\n",
       "      <td>NaN</td>\n",
       "      <td>0.0</td>\n",
       "      <td>VMC</td>\n",
       "      <td>Approach</td>\n",
       "      <td>Probable Cause</td>\n",
       "      <td>16-04-1980</td>\n",
       "    </tr>\n",
       "    <tr>\n",
       "      <th>...</th>\n",
       "      <td>...</td>\n",
       "      <td>...</td>\n",
       "      <td>...</td>\n",
       "      <td>...</td>\n",
       "      <td>...</td>\n",
       "      <td>...</td>\n",
       "      <td>...</td>\n",
       "      <td>...</td>\n",
       "      <td>...</td>\n",
       "      <td>...</td>\n",
       "      <td>...</td>\n",
       "      <td>...</td>\n",
       "      <td>...</td>\n",
       "      <td>...</td>\n",
       "      <td>...</td>\n",
       "      <td>...</td>\n",
       "      <td>...</td>\n",
       "      <td>...</td>\n",
       "      <td>...</td>\n",
       "      <td>...</td>\n",
       "      <td>...</td>\n",
       "      <td>...</td>\n",
       "      <td>...</td>\n",
       "      <td>...</td>\n",
       "      <td>...</td>\n",
       "      <td>...</td>\n",
       "      <td>...</td>\n",
       "      <td>...</td>\n",
       "      <td>...</td>\n",
       "      <td>...</td>\n",
       "      <td>...</td>\n",
       "    </tr>\n",
       "    <tr>\n",
       "      <th>88884</th>\n",
       "      <td>20221227106491</td>\n",
       "      <td>Accident</td>\n",
       "      <td>ERA23LA093</td>\n",
       "      <td>2022-12-26</td>\n",
       "      <td>Annapolis, MD</td>\n",
       "      <td>United States</td>\n",
       "      <td>NaN</td>\n",
       "      <td>NaN</td>\n",
       "      <td>NaN</td>\n",
       "      <td>NaN</td>\n",
       "      <td>Minor</td>\n",
       "      <td>NaN</td>\n",
       "      <td>NaN</td>\n",
       "      <td>N1867H</td>\n",
       "      <td>PIPER</td>\n",
       "      <td>PA-28-151</td>\n",
       "      <td>No</td>\n",
       "      <td>NaN</td>\n",
       "      <td>NaN</td>\n",
       "      <td>091</td>\n",
       "      <td>NaN</td>\n",
       "      <td>Personal</td>\n",
       "      <td>NaN</td>\n",
       "      <td>0.0</td>\n",
       "      <td>1.0</td>\n",
       "      <td>0.0</td>\n",
       "      <td>0.0</td>\n",
       "      <td>NaN</td>\n",
       "      <td>NaN</td>\n",
       "      <td>NaN</td>\n",
       "      <td>29-12-2022</td>\n",
       "    </tr>\n",
       "    <tr>\n",
       "      <th>88885</th>\n",
       "      <td>20221227106494</td>\n",
       "      <td>Accident</td>\n",
       "      <td>ERA23LA095</td>\n",
       "      <td>2022-12-26</td>\n",
       "      <td>Hampton, NH</td>\n",
       "      <td>United States</td>\n",
       "      <td>NaN</td>\n",
       "      <td>NaN</td>\n",
       "      <td>NaN</td>\n",
       "      <td>NaN</td>\n",
       "      <td>NaN</td>\n",
       "      <td>NaN</td>\n",
       "      <td>NaN</td>\n",
       "      <td>N2895Z</td>\n",
       "      <td>BELLANCA</td>\n",
       "      <td>7ECA</td>\n",
       "      <td>No</td>\n",
       "      <td>NaN</td>\n",
       "      <td>NaN</td>\n",
       "      <td>NaN</td>\n",
       "      <td>NaN</td>\n",
       "      <td>NaN</td>\n",
       "      <td>NaN</td>\n",
       "      <td>0.0</td>\n",
       "      <td>0.0</td>\n",
       "      <td>0.0</td>\n",
       "      <td>0.0</td>\n",
       "      <td>NaN</td>\n",
       "      <td>NaN</td>\n",
       "      <td>NaN</td>\n",
       "      <td>NaN</td>\n",
       "    </tr>\n",
       "    <tr>\n",
       "      <th>88886</th>\n",
       "      <td>20221227106497</td>\n",
       "      <td>Accident</td>\n",
       "      <td>WPR23LA075</td>\n",
       "      <td>2022-12-26</td>\n",
       "      <td>Payson, AZ</td>\n",
       "      <td>United States</td>\n",
       "      <td>341525N</td>\n",
       "      <td>1112021W</td>\n",
       "      <td>PAN</td>\n",
       "      <td>PAYSON</td>\n",
       "      <td>Non-Fatal</td>\n",
       "      <td>Substantial</td>\n",
       "      <td>Airplane</td>\n",
       "      <td>N749PJ</td>\n",
       "      <td>AMERICAN CHAMPION AIRCRAFT</td>\n",
       "      <td>8GCBC</td>\n",
       "      <td>No</td>\n",
       "      <td>1.0</td>\n",
       "      <td>NaN</td>\n",
       "      <td>091</td>\n",
       "      <td>NaN</td>\n",
       "      <td>Personal</td>\n",
       "      <td>NaN</td>\n",
       "      <td>0.0</td>\n",
       "      <td>0.0</td>\n",
       "      <td>0.0</td>\n",
       "      <td>1.0</td>\n",
       "      <td>VMC</td>\n",
       "      <td>NaN</td>\n",
       "      <td>NaN</td>\n",
       "      <td>27-12-2022</td>\n",
       "    </tr>\n",
       "    <tr>\n",
       "      <th>88887</th>\n",
       "      <td>20221227106498</td>\n",
       "      <td>Accident</td>\n",
       "      <td>WPR23LA076</td>\n",
       "      <td>2022-12-26</td>\n",
       "      <td>Morgan, UT</td>\n",
       "      <td>United States</td>\n",
       "      <td>NaN</td>\n",
       "      <td>NaN</td>\n",
       "      <td>NaN</td>\n",
       "      <td>NaN</td>\n",
       "      <td>NaN</td>\n",
       "      <td>NaN</td>\n",
       "      <td>NaN</td>\n",
       "      <td>N210CU</td>\n",
       "      <td>CESSNA</td>\n",
       "      <td>210N</td>\n",
       "      <td>No</td>\n",
       "      <td>NaN</td>\n",
       "      <td>NaN</td>\n",
       "      <td>091</td>\n",
       "      <td>NaN</td>\n",
       "      <td>Personal</td>\n",
       "      <td>MC CESSNA 210N LLC</td>\n",
       "      <td>0.0</td>\n",
       "      <td>0.0</td>\n",
       "      <td>0.0</td>\n",
       "      <td>0.0</td>\n",
       "      <td>NaN</td>\n",
       "      <td>NaN</td>\n",
       "      <td>NaN</td>\n",
       "      <td>NaN</td>\n",
       "    </tr>\n",
       "    <tr>\n",
       "      <th>88888</th>\n",
       "      <td>20221230106513</td>\n",
       "      <td>Accident</td>\n",
       "      <td>ERA23LA097</td>\n",
       "      <td>2022-12-29</td>\n",
       "      <td>Athens, GA</td>\n",
       "      <td>United States</td>\n",
       "      <td>NaN</td>\n",
       "      <td>NaN</td>\n",
       "      <td>NaN</td>\n",
       "      <td>NaN</td>\n",
       "      <td>Minor</td>\n",
       "      <td>NaN</td>\n",
       "      <td>NaN</td>\n",
       "      <td>N9026P</td>\n",
       "      <td>PIPER</td>\n",
       "      <td>PA-24-260</td>\n",
       "      <td>No</td>\n",
       "      <td>NaN</td>\n",
       "      <td>NaN</td>\n",
       "      <td>091</td>\n",
       "      <td>NaN</td>\n",
       "      <td>Personal</td>\n",
       "      <td>NaN</td>\n",
       "      <td>0.0</td>\n",
       "      <td>1.0</td>\n",
       "      <td>0.0</td>\n",
       "      <td>1.0</td>\n",
       "      <td>NaN</td>\n",
       "      <td>NaN</td>\n",
       "      <td>NaN</td>\n",
       "      <td>30-12-2022</td>\n",
       "    </tr>\n",
       "  </tbody>\n",
       "</table>\n",
       "<p>88889 rows × 31 columns</p>\n",
       "</div>"
      ],
      "text/plain": [
       "             Event.Id Investigation.Type Accident.Number  Event.Date  \\\n",
       "0      20001218X45444           Accident      SEA87LA080  1948-10-24   \n",
       "1      20001218X45447           Accident      LAX94LA336  1962-07-19   \n",
       "2      20061025X01555           Accident      NYC07LA005  1974-08-30   \n",
       "3      20001218X45448           Accident      LAX96LA321  1977-06-19   \n",
       "4      20041105X01764           Accident      CHI79FA064  1979-08-02   \n",
       "...               ...                ...             ...         ...   \n",
       "88884  20221227106491           Accident      ERA23LA093  2022-12-26   \n",
       "88885  20221227106494           Accident      ERA23LA095  2022-12-26   \n",
       "88886  20221227106497           Accident      WPR23LA075  2022-12-26   \n",
       "88887  20221227106498           Accident      WPR23LA076  2022-12-26   \n",
       "88888  20221230106513           Accident      ERA23LA097  2022-12-29   \n",
       "\n",
       "              Location        Country   Latitude   Longitude Airport.Code  \\\n",
       "0      MOOSE CREEK, ID  United States        NaN         NaN          NaN   \n",
       "1       BRIDGEPORT, CA  United States        NaN         NaN          NaN   \n",
       "2        Saltville, VA  United States  36.922223  -81.878056          NaN   \n",
       "3           EUREKA, CA  United States        NaN         NaN          NaN   \n",
       "4           Canton, OH  United States        NaN         NaN          NaN   \n",
       "...                ...            ...        ...         ...          ...   \n",
       "88884    Annapolis, MD  United States        NaN         NaN          NaN   \n",
       "88885      Hampton, NH  United States        NaN         NaN          NaN   \n",
       "88886       Payson, AZ  United States    341525N    1112021W          PAN   \n",
       "88887       Morgan, UT  United States        NaN         NaN          NaN   \n",
       "88888       Athens, GA  United States        NaN         NaN          NaN   \n",
       "\n",
       "      Airport.Name Injury.Severity Aircraft.damage Aircraft.Category  \\\n",
       "0              NaN        Fatal(2)       Destroyed               NaN   \n",
       "1              NaN        Fatal(4)       Destroyed               NaN   \n",
       "2              NaN        Fatal(3)       Destroyed               NaN   \n",
       "3              NaN        Fatal(2)       Destroyed               NaN   \n",
       "4              NaN        Fatal(1)       Destroyed               NaN   \n",
       "...            ...             ...             ...               ...   \n",
       "88884          NaN           Minor             NaN               NaN   \n",
       "88885          NaN             NaN             NaN               NaN   \n",
       "88886       PAYSON       Non-Fatal     Substantial          Airplane   \n",
       "88887          NaN             NaN             NaN               NaN   \n",
       "88888          NaN           Minor             NaN               NaN   \n",
       "\n",
       "      Registration.Number                        Make      Model  \\\n",
       "0                  NC6404                     Stinson      108-3   \n",
       "1                  N5069P                       Piper   PA24-180   \n",
       "2                  N5142R                      Cessna       172M   \n",
       "3                  N1168J                    Rockwell        112   \n",
       "4                   N15NY                      Cessna        501   \n",
       "...                   ...                         ...        ...   \n",
       "88884              N1867H                       PIPER  PA-28-151   \n",
       "88885              N2895Z                    BELLANCA       7ECA   \n",
       "88886              N749PJ  AMERICAN CHAMPION AIRCRAFT      8GCBC   \n",
       "88887              N210CU                      CESSNA       210N   \n",
       "88888              N9026P                       PIPER  PA-24-260   \n",
       "\n",
       "      Amateur.Built  Number.of.Engines    Engine.Type FAR.Description  \\\n",
       "0                No                1.0  Reciprocating             NaN   \n",
       "1                No                1.0  Reciprocating             NaN   \n",
       "2                No                1.0  Reciprocating             NaN   \n",
       "3                No                1.0  Reciprocating             NaN   \n",
       "4                No                NaN            NaN             NaN   \n",
       "...             ...                ...            ...             ...   \n",
       "88884            No                NaN            NaN             091   \n",
       "88885            No                NaN            NaN             NaN   \n",
       "88886            No                1.0            NaN             091   \n",
       "88887            No                NaN            NaN             091   \n",
       "88888            No                NaN            NaN             091   \n",
       "\n",
       "      Schedule Purpose.of.flight         Air.carrier  Total.Fatal.Injuries  \\\n",
       "0          NaN          Personal                 NaN                   2.0   \n",
       "1          NaN          Personal                 NaN                   4.0   \n",
       "2          NaN          Personal                 NaN                   3.0   \n",
       "3          NaN          Personal                 NaN                   2.0   \n",
       "4          NaN          Personal                 NaN                   1.0   \n",
       "...        ...               ...                 ...                   ...   \n",
       "88884      NaN          Personal                 NaN                   0.0   \n",
       "88885      NaN               NaN                 NaN                   0.0   \n",
       "88886      NaN          Personal                 NaN                   0.0   \n",
       "88887      NaN          Personal  MC CESSNA 210N LLC                   0.0   \n",
       "88888      NaN          Personal                 NaN                   0.0   \n",
       "\n",
       "       Total.Serious.Injuries  Total.Minor.Injuries  Total.Uninjured  \\\n",
       "0                         0.0                   0.0              0.0   \n",
       "1                         0.0                   0.0              0.0   \n",
       "2                         NaN                   NaN              NaN   \n",
       "3                         0.0                   0.0              0.0   \n",
       "4                         2.0                   NaN              0.0   \n",
       "...                       ...                   ...              ...   \n",
       "88884                     1.0                   0.0              0.0   \n",
       "88885                     0.0                   0.0              0.0   \n",
       "88886                     0.0                   0.0              1.0   \n",
       "88887                     0.0                   0.0              0.0   \n",
       "88888                     1.0                   0.0              1.0   \n",
       "\n",
       "      Weather.Condition Broad.phase.of.flight   Report.Status Publication.Date  \n",
       "0                   UNK                Cruise  Probable Cause              NaN  \n",
       "1                   UNK               Unknown  Probable Cause       19-09-1996  \n",
       "2                   IMC                Cruise  Probable Cause       26-02-2007  \n",
       "3                   IMC                Cruise  Probable Cause       12-09-2000  \n",
       "4                   VMC              Approach  Probable Cause       16-04-1980  \n",
       "...                 ...                   ...             ...              ...  \n",
       "88884               NaN                   NaN             NaN       29-12-2022  \n",
       "88885               NaN                   NaN             NaN              NaN  \n",
       "88886               VMC                   NaN             NaN       27-12-2022  \n",
       "88887               NaN                   NaN             NaN              NaN  \n",
       "88888               NaN                   NaN             NaN       30-12-2022  \n",
       "\n",
       "[88889 rows x 31 columns]"
      ]
     },
     "execution_count": 155,
     "metadata": {},
     "output_type": "execute_result"
    }
   ],
   "source": [
    "#increase rows and columns size\n",
    "pd.set_option('display.max_rows',32)\n",
    "pd.set_option('display.max_columns',32)\n",
    "#lets preview the first five and last five rows by calling our dataframe\n",
    "df"
   ]
  },
  {
   "cell_type": "markdown",
   "metadata": {},
   "source": [
    "### d)Accessing information about our dataset\n"
   ]
  },
  {
   "cell_type": "code",
   "execution_count": 156,
   "metadata": {},
   "outputs": [
    {
     "name": "stdout",
     "output_type": "stream",
     "text": [
      "<class 'pandas.core.frame.DataFrame'>\n",
      "RangeIndex: 88889 entries, 0 to 88888\n",
      "Data columns (total 31 columns):\n",
      " #   Column                  Non-Null Count  Dtype  \n",
      "---  ------                  --------------  -----  \n",
      " 0   Event.Id                88889 non-null  object \n",
      " 1   Investigation.Type      88889 non-null  object \n",
      " 2   Accident.Number         88889 non-null  object \n",
      " 3   Event.Date              88889 non-null  object \n",
      " 4   Location                88837 non-null  object \n",
      " 5   Country                 88663 non-null  object \n",
      " 6   Latitude                34382 non-null  object \n",
      " 7   Longitude               34373 non-null  object \n",
      " 8   Airport.Code            50249 non-null  object \n",
      " 9   Airport.Name            52790 non-null  object \n",
      " 10  Injury.Severity         87889 non-null  object \n",
      " 11  Aircraft.damage         85695 non-null  object \n",
      " 12  Aircraft.Category       32287 non-null  object \n",
      " 13  Registration.Number     87572 non-null  object \n",
      " 14  Make                    88826 non-null  object \n",
      " 15  Model                   88797 non-null  object \n",
      " 16  Amateur.Built           88787 non-null  object \n",
      " 17  Number.of.Engines       82805 non-null  float64\n",
      " 18  Engine.Type             81812 non-null  object \n",
      " 19  FAR.Description         32023 non-null  object \n",
      " 20  Schedule                12582 non-null  object \n",
      " 21  Purpose.of.flight       82697 non-null  object \n",
      " 22  Air.carrier             16648 non-null  object \n",
      " 23  Total.Fatal.Injuries    77488 non-null  float64\n",
      " 24  Total.Serious.Injuries  76379 non-null  float64\n",
      " 25  Total.Minor.Injuries    76956 non-null  float64\n",
      " 26  Total.Uninjured         82977 non-null  float64\n",
      " 27  Weather.Condition       84397 non-null  object \n",
      " 28  Broad.phase.of.flight   61724 non-null  object \n",
      " 29  Report.Status           82508 non-null  object \n",
      " 30  Publication.Date        75118 non-null  object \n",
      "dtypes: float64(5), object(26)\n",
      "memory usage: 21.0+ MB\n"
     ]
    }
   ],
   "source": [
    "#getting to know more about our dataset by accessing its information\n",
    "df.info()"
   ]
  },
  {
   "cell_type": "markdown",
   "metadata": {},
   "source": [
    "### e)Accessing summary statistics about our data"
   ]
  },
  {
   "cell_type": "code",
   "execution_count": 157,
   "metadata": {},
   "outputs": [
    {
     "data": {
      "text/html": [
       "<div>\n",
       "<style scoped>\n",
       "    .dataframe tbody tr th:only-of-type {\n",
       "        vertical-align: middle;\n",
       "    }\n",
       "\n",
       "    .dataframe tbody tr th {\n",
       "        vertical-align: top;\n",
       "    }\n",
       "\n",
       "    .dataframe thead th {\n",
       "        text-align: right;\n",
       "    }\n",
       "</style>\n",
       "<table border=\"1\" class=\"dataframe\">\n",
       "  <thead>\n",
       "    <tr style=\"text-align: right;\">\n",
       "      <th></th>\n",
       "      <th>Number.of.Engines</th>\n",
       "      <th>Total.Fatal.Injuries</th>\n",
       "      <th>Total.Serious.Injuries</th>\n",
       "      <th>Total.Minor.Injuries</th>\n",
       "      <th>Total.Uninjured</th>\n",
       "    </tr>\n",
       "  </thead>\n",
       "  <tbody>\n",
       "    <tr>\n",
       "      <th>count</th>\n",
       "      <td>82805.000000</td>\n",
       "      <td>77488.000000</td>\n",
       "      <td>76379.000000</td>\n",
       "      <td>76956.000000</td>\n",
       "      <td>82977.000000</td>\n",
       "    </tr>\n",
       "    <tr>\n",
       "      <th>mean</th>\n",
       "      <td>1.146585</td>\n",
       "      <td>0.647855</td>\n",
       "      <td>0.279881</td>\n",
       "      <td>0.357061</td>\n",
       "      <td>5.325440</td>\n",
       "    </tr>\n",
       "    <tr>\n",
       "      <th>std</th>\n",
       "      <td>0.446510</td>\n",
       "      <td>5.485960</td>\n",
       "      <td>1.544084</td>\n",
       "      <td>2.235625</td>\n",
       "      <td>27.913634</td>\n",
       "    </tr>\n",
       "    <tr>\n",
       "      <th>min</th>\n",
       "      <td>0.000000</td>\n",
       "      <td>0.000000</td>\n",
       "      <td>0.000000</td>\n",
       "      <td>0.000000</td>\n",
       "      <td>0.000000</td>\n",
       "    </tr>\n",
       "    <tr>\n",
       "      <th>25%</th>\n",
       "      <td>1.000000</td>\n",
       "      <td>0.000000</td>\n",
       "      <td>0.000000</td>\n",
       "      <td>0.000000</td>\n",
       "      <td>0.000000</td>\n",
       "    </tr>\n",
       "    <tr>\n",
       "      <th>50%</th>\n",
       "      <td>1.000000</td>\n",
       "      <td>0.000000</td>\n",
       "      <td>0.000000</td>\n",
       "      <td>0.000000</td>\n",
       "      <td>1.000000</td>\n",
       "    </tr>\n",
       "    <tr>\n",
       "      <th>75%</th>\n",
       "      <td>1.000000</td>\n",
       "      <td>0.000000</td>\n",
       "      <td>0.000000</td>\n",
       "      <td>0.000000</td>\n",
       "      <td>2.000000</td>\n",
       "    </tr>\n",
       "    <tr>\n",
       "      <th>max</th>\n",
       "      <td>8.000000</td>\n",
       "      <td>349.000000</td>\n",
       "      <td>161.000000</td>\n",
       "      <td>380.000000</td>\n",
       "      <td>699.000000</td>\n",
       "    </tr>\n",
       "  </tbody>\n",
       "</table>\n",
       "</div>"
      ],
      "text/plain": [
       "       Number.of.Engines  Total.Fatal.Injuries  Total.Serious.Injuries  \\\n",
       "count       82805.000000          77488.000000            76379.000000   \n",
       "mean            1.146585              0.647855                0.279881   \n",
       "std             0.446510              5.485960                1.544084   \n",
       "min             0.000000              0.000000                0.000000   \n",
       "25%             1.000000              0.000000                0.000000   \n",
       "50%             1.000000              0.000000                0.000000   \n",
       "75%             1.000000              0.000000                0.000000   \n",
       "max             8.000000            349.000000              161.000000   \n",
       "\n",
       "       Total.Minor.Injuries  Total.Uninjured  \n",
       "count          76956.000000     82977.000000  \n",
       "mean               0.357061         5.325440  \n",
       "std                2.235625        27.913634  \n",
       "min                0.000000         0.000000  \n",
       "25%                0.000000         0.000000  \n",
       "50%                0.000000         1.000000  \n",
       "75%                0.000000         2.000000  \n",
       "max              380.000000       699.000000  "
      ]
     },
     "execution_count": 157,
     "metadata": {},
     "output_type": "execute_result"
    }
   ],
   "source": [
    "#statisctics for int and float objects\n",
    "df.describe()"
   ]
  },
  {
   "cell_type": "code",
   "execution_count": 158,
   "metadata": {},
   "outputs": [
    {
     "data": {
      "text/html": [
       "<div>\n",
       "<style scoped>\n",
       "    .dataframe tbody tr th:only-of-type {\n",
       "        vertical-align: middle;\n",
       "    }\n",
       "\n",
       "    .dataframe tbody tr th {\n",
       "        vertical-align: top;\n",
       "    }\n",
       "\n",
       "    .dataframe thead th {\n",
       "        text-align: right;\n",
       "    }\n",
       "</style>\n",
       "<table border=\"1\" class=\"dataframe\">\n",
       "  <thead>\n",
       "    <tr style=\"text-align: right;\">\n",
       "      <th></th>\n",
       "      <th>Event.Id</th>\n",
       "      <th>Investigation.Type</th>\n",
       "      <th>Accident.Number</th>\n",
       "      <th>Event.Date</th>\n",
       "      <th>Location</th>\n",
       "      <th>Country</th>\n",
       "      <th>Latitude</th>\n",
       "      <th>Longitude</th>\n",
       "      <th>Airport.Code</th>\n",
       "      <th>Airport.Name</th>\n",
       "      <th>Injury.Severity</th>\n",
       "      <th>Aircraft.damage</th>\n",
       "      <th>Aircraft.Category</th>\n",
       "      <th>Registration.Number</th>\n",
       "      <th>Make</th>\n",
       "      <th>Model</th>\n",
       "      <th>Amateur.Built</th>\n",
       "      <th>Engine.Type</th>\n",
       "      <th>FAR.Description</th>\n",
       "      <th>Schedule</th>\n",
       "      <th>Purpose.of.flight</th>\n",
       "      <th>Air.carrier</th>\n",
       "      <th>Weather.Condition</th>\n",
       "      <th>Broad.phase.of.flight</th>\n",
       "      <th>Report.Status</th>\n",
       "      <th>Publication.Date</th>\n",
       "    </tr>\n",
       "  </thead>\n",
       "  <tbody>\n",
       "    <tr>\n",
       "      <th>count</th>\n",
       "      <td>88889</td>\n",
       "      <td>88889</td>\n",
       "      <td>88889</td>\n",
       "      <td>88889</td>\n",
       "      <td>88837</td>\n",
       "      <td>88663</td>\n",
       "      <td>34382</td>\n",
       "      <td>34373</td>\n",
       "      <td>50249</td>\n",
       "      <td>52790</td>\n",
       "      <td>87889</td>\n",
       "      <td>85695</td>\n",
       "      <td>32287</td>\n",
       "      <td>87572</td>\n",
       "      <td>88826</td>\n",
       "      <td>88797</td>\n",
       "      <td>88787</td>\n",
       "      <td>81812</td>\n",
       "      <td>32023</td>\n",
       "      <td>12582</td>\n",
       "      <td>82697</td>\n",
       "      <td>16648</td>\n",
       "      <td>84397</td>\n",
       "      <td>61724</td>\n",
       "      <td>82508</td>\n",
       "      <td>75118</td>\n",
       "    </tr>\n",
       "    <tr>\n",
       "      <th>unique</th>\n",
       "      <td>87951</td>\n",
       "      <td>2</td>\n",
       "      <td>88863</td>\n",
       "      <td>14782</td>\n",
       "      <td>27758</td>\n",
       "      <td>219</td>\n",
       "      <td>25589</td>\n",
       "      <td>27154</td>\n",
       "      <td>10375</td>\n",
       "      <td>24871</td>\n",
       "      <td>109</td>\n",
       "      <td>4</td>\n",
       "      <td>15</td>\n",
       "      <td>79105</td>\n",
       "      <td>8237</td>\n",
       "      <td>12318</td>\n",
       "      <td>2</td>\n",
       "      <td>13</td>\n",
       "      <td>31</td>\n",
       "      <td>3</td>\n",
       "      <td>26</td>\n",
       "      <td>13590</td>\n",
       "      <td>4</td>\n",
       "      <td>12</td>\n",
       "      <td>17075</td>\n",
       "      <td>2924</td>\n",
       "    </tr>\n",
       "    <tr>\n",
       "      <th>top</th>\n",
       "      <td>20001212X19172</td>\n",
       "      <td>Accident</td>\n",
       "      <td>CEN22LA149</td>\n",
       "      <td>1984-06-30</td>\n",
       "      <td>ANCHORAGE, AK</td>\n",
       "      <td>United States</td>\n",
       "      <td>332739N</td>\n",
       "      <td>0112457W</td>\n",
       "      <td>NONE</td>\n",
       "      <td>Private</td>\n",
       "      <td>Non-Fatal</td>\n",
       "      <td>Substantial</td>\n",
       "      <td>Airplane</td>\n",
       "      <td>NONE</td>\n",
       "      <td>Cessna</td>\n",
       "      <td>152</td>\n",
       "      <td>No</td>\n",
       "      <td>Reciprocating</td>\n",
       "      <td>091</td>\n",
       "      <td>NSCH</td>\n",
       "      <td>Personal</td>\n",
       "      <td>Pilot</td>\n",
       "      <td>VMC</td>\n",
       "      <td>Landing</td>\n",
       "      <td>Probable Cause</td>\n",
       "      <td>25-09-2020</td>\n",
       "    </tr>\n",
       "    <tr>\n",
       "      <th>freq</th>\n",
       "      <td>3</td>\n",
       "      <td>85015</td>\n",
       "      <td>2</td>\n",
       "      <td>25</td>\n",
       "      <td>434</td>\n",
       "      <td>82248</td>\n",
       "      <td>19</td>\n",
       "      <td>24</td>\n",
       "      <td>1488</td>\n",
       "      <td>240</td>\n",
       "      <td>67357</td>\n",
       "      <td>64148</td>\n",
       "      <td>27617</td>\n",
       "      <td>344</td>\n",
       "      <td>22227</td>\n",
       "      <td>2367</td>\n",
       "      <td>80312</td>\n",
       "      <td>69530</td>\n",
       "      <td>18221</td>\n",
       "      <td>4474</td>\n",
       "      <td>49448</td>\n",
       "      <td>258</td>\n",
       "      <td>77303</td>\n",
       "      <td>15428</td>\n",
       "      <td>61754</td>\n",
       "      <td>17019</td>\n",
       "    </tr>\n",
       "  </tbody>\n",
       "</table>\n",
       "</div>"
      ],
      "text/plain": [
       "              Event.Id Investigation.Type Accident.Number  Event.Date  \\\n",
       "count            88889              88889           88889       88889   \n",
       "unique           87951                  2           88863       14782   \n",
       "top     20001212X19172           Accident      CEN22LA149  1984-06-30   \n",
       "freq                 3              85015               2          25   \n",
       "\n",
       "             Location        Country Latitude Longitude Airport.Code  \\\n",
       "count           88837          88663    34382     34373        50249   \n",
       "unique          27758            219    25589     27154        10375   \n",
       "top     ANCHORAGE, AK  United States  332739N  0112457W         NONE   \n",
       "freq              434          82248       19        24         1488   \n",
       "\n",
       "       Airport.Name Injury.Severity Aircraft.damage Aircraft.Category  \\\n",
       "count         52790           87889           85695             32287   \n",
       "unique        24871             109               4                15   \n",
       "top         Private       Non-Fatal     Substantial          Airplane   \n",
       "freq            240           67357           64148             27617   \n",
       "\n",
       "       Registration.Number    Make  Model Amateur.Built    Engine.Type  \\\n",
       "count                87572   88826  88797         88787          81812   \n",
       "unique               79105    8237  12318             2             13   \n",
       "top                   NONE  Cessna    152            No  Reciprocating   \n",
       "freq                   344   22227   2367         80312          69530   \n",
       "\n",
       "       FAR.Description Schedule Purpose.of.flight Air.carrier  \\\n",
       "count            32023    12582             82697       16648   \n",
       "unique              31        3                26       13590   \n",
       "top                091     NSCH          Personal       Pilot   \n",
       "freq             18221     4474             49448         258   \n",
       "\n",
       "       Weather.Condition Broad.phase.of.flight   Report.Status  \\\n",
       "count              84397                 61724           82508   \n",
       "unique                 4                    12           17075   \n",
       "top                  VMC               Landing  Probable Cause   \n",
       "freq               77303                 15428           61754   \n",
       "\n",
       "       Publication.Date  \n",
       "count             75118  \n",
       "unique             2924  \n",
       "top          25-09-2020  \n",
       "freq              17019  "
      ]
     },
     "execution_count": 158,
     "metadata": {},
     "output_type": "execute_result"
    }
   ],
   "source": [
    "# statics for string objects\n",
    "df.describe(include='O')"
   ]
  },
  {
   "cell_type": "markdown",
   "metadata": {},
   "source": [
    "### 2) Cleaning Our Dataset\n",
    "perrming data cleaning procedures below providing a documetation for our action and reasons.Will perform as amny data cleaning procedures as we think suitable for the various dimensions of data"
   ]
  },
  {
   "cell_type": "code",
   "execution_count": 159,
   "metadata": {},
   "outputs": [
    {
     "data": {
      "text/html": [
       "<div>\n",
       "<style scoped>\n",
       "    .dataframe tbody tr th:only-of-type {\n",
       "        vertical-align: middle;\n",
       "    }\n",
       "\n",
       "    .dataframe tbody tr th {\n",
       "        vertical-align: top;\n",
       "    }\n",
       "\n",
       "    .dataframe thead th {\n",
       "        text-align: right;\n",
       "    }\n",
       "</style>\n",
       "<table border=\"1\" class=\"dataframe\">\n",
       "  <thead>\n",
       "    <tr style=\"text-align: right;\">\n",
       "      <th></th>\n",
       "      <th>Event.Id</th>\n",
       "      <th>Investigation.Type</th>\n",
       "      <th>Accident.Number</th>\n",
       "      <th>Event.Date</th>\n",
       "      <th>Location</th>\n",
       "      <th>Country</th>\n",
       "      <th>Latitude</th>\n",
       "      <th>Longitude</th>\n",
       "      <th>Airport.Code</th>\n",
       "      <th>Airport.Name</th>\n",
       "      <th>Injury.Severity</th>\n",
       "      <th>Aircraft.damage</th>\n",
       "      <th>Aircraft.Category</th>\n",
       "      <th>Registration.Number</th>\n",
       "      <th>Make</th>\n",
       "      <th>Model</th>\n",
       "      <th>Amateur.Built</th>\n",
       "      <th>Number.of.Engines</th>\n",
       "      <th>Engine.Type</th>\n",
       "      <th>FAR.Description</th>\n",
       "      <th>Schedule</th>\n",
       "      <th>Purpose.of.flight</th>\n",
       "      <th>Air.carrier</th>\n",
       "      <th>Total.Fatal.Injuries</th>\n",
       "      <th>Total.Serious.Injuries</th>\n",
       "      <th>Total.Minor.Injuries</th>\n",
       "      <th>Total.Uninjured</th>\n",
       "      <th>Weather.Condition</th>\n",
       "      <th>Broad.phase.of.flight</th>\n",
       "      <th>Report.Status</th>\n",
       "      <th>Publication.Date</th>\n",
       "    </tr>\n",
       "  </thead>\n",
       "  <tbody>\n",
       "    <tr>\n",
       "      <th>0</th>\n",
       "      <td>20001218X45444</td>\n",
       "      <td>Accident</td>\n",
       "      <td>SEA87LA080</td>\n",
       "      <td>1948-10-24</td>\n",
       "      <td>MOOSE CREEK, ID</td>\n",
       "      <td>United States</td>\n",
       "      <td>NaN</td>\n",
       "      <td>NaN</td>\n",
       "      <td>NaN</td>\n",
       "      <td>NaN</td>\n",
       "      <td>Fatal(2)</td>\n",
       "      <td>Destroyed</td>\n",
       "      <td>NaN</td>\n",
       "      <td>NC6404</td>\n",
       "      <td>Stinson</td>\n",
       "      <td>108-3</td>\n",
       "      <td>No</td>\n",
       "      <td>1.0</td>\n",
       "      <td>Reciprocating</td>\n",
       "      <td>NaN</td>\n",
       "      <td>NaN</td>\n",
       "      <td>Personal</td>\n",
       "      <td>NaN</td>\n",
       "      <td>2.0</td>\n",
       "      <td>0.0</td>\n",
       "      <td>0.0</td>\n",
       "      <td>0.0</td>\n",
       "      <td>UNK</td>\n",
       "      <td>Cruise</td>\n",
       "      <td>Probable Cause</td>\n",
       "      <td>NaN</td>\n",
       "    </tr>\n",
       "    <tr>\n",
       "      <th>1</th>\n",
       "      <td>20001218X45447</td>\n",
       "      <td>Accident</td>\n",
       "      <td>LAX94LA336</td>\n",
       "      <td>1962-07-19</td>\n",
       "      <td>BRIDGEPORT, CA</td>\n",
       "      <td>United States</td>\n",
       "      <td>NaN</td>\n",
       "      <td>NaN</td>\n",
       "      <td>NaN</td>\n",
       "      <td>NaN</td>\n",
       "      <td>Fatal(4)</td>\n",
       "      <td>Destroyed</td>\n",
       "      <td>NaN</td>\n",
       "      <td>N5069P</td>\n",
       "      <td>Piper</td>\n",
       "      <td>PA24-180</td>\n",
       "      <td>No</td>\n",
       "      <td>1.0</td>\n",
       "      <td>Reciprocating</td>\n",
       "      <td>NaN</td>\n",
       "      <td>NaN</td>\n",
       "      <td>Personal</td>\n",
       "      <td>NaN</td>\n",
       "      <td>4.0</td>\n",
       "      <td>0.0</td>\n",
       "      <td>0.0</td>\n",
       "      <td>0.0</td>\n",
       "      <td>UNK</td>\n",
       "      <td>Unknown</td>\n",
       "      <td>Probable Cause</td>\n",
       "      <td>19-09-1996</td>\n",
       "    </tr>\n",
       "    <tr>\n",
       "      <th>2</th>\n",
       "      <td>20061025X01555</td>\n",
       "      <td>Accident</td>\n",
       "      <td>NYC07LA005</td>\n",
       "      <td>1974-08-30</td>\n",
       "      <td>Saltville, VA</td>\n",
       "      <td>United States</td>\n",
       "      <td>36.922223</td>\n",
       "      <td>-81.878056</td>\n",
       "      <td>NaN</td>\n",
       "      <td>NaN</td>\n",
       "      <td>Fatal(3)</td>\n",
       "      <td>Destroyed</td>\n",
       "      <td>NaN</td>\n",
       "      <td>N5142R</td>\n",
       "      <td>Cessna</td>\n",
       "      <td>172M</td>\n",
       "      <td>No</td>\n",
       "      <td>1.0</td>\n",
       "      <td>Reciprocating</td>\n",
       "      <td>NaN</td>\n",
       "      <td>NaN</td>\n",
       "      <td>Personal</td>\n",
       "      <td>NaN</td>\n",
       "      <td>3.0</td>\n",
       "      <td>NaN</td>\n",
       "      <td>NaN</td>\n",
       "      <td>NaN</td>\n",
       "      <td>IMC</td>\n",
       "      <td>Cruise</td>\n",
       "      <td>Probable Cause</td>\n",
       "      <td>26-02-2007</td>\n",
       "    </tr>\n",
       "    <tr>\n",
       "      <th>3</th>\n",
       "      <td>20001218X45448</td>\n",
       "      <td>Accident</td>\n",
       "      <td>LAX96LA321</td>\n",
       "      <td>1977-06-19</td>\n",
       "      <td>EUREKA, CA</td>\n",
       "      <td>United States</td>\n",
       "      <td>NaN</td>\n",
       "      <td>NaN</td>\n",
       "      <td>NaN</td>\n",
       "      <td>NaN</td>\n",
       "      <td>Fatal(2)</td>\n",
       "      <td>Destroyed</td>\n",
       "      <td>NaN</td>\n",
       "      <td>N1168J</td>\n",
       "      <td>Rockwell</td>\n",
       "      <td>112</td>\n",
       "      <td>No</td>\n",
       "      <td>1.0</td>\n",
       "      <td>Reciprocating</td>\n",
       "      <td>NaN</td>\n",
       "      <td>NaN</td>\n",
       "      <td>Personal</td>\n",
       "      <td>NaN</td>\n",
       "      <td>2.0</td>\n",
       "      <td>0.0</td>\n",
       "      <td>0.0</td>\n",
       "      <td>0.0</td>\n",
       "      <td>IMC</td>\n",
       "      <td>Cruise</td>\n",
       "      <td>Probable Cause</td>\n",
       "      <td>12-09-2000</td>\n",
       "    </tr>\n",
       "    <tr>\n",
       "      <th>4</th>\n",
       "      <td>20041105X01764</td>\n",
       "      <td>Accident</td>\n",
       "      <td>CHI79FA064</td>\n",
       "      <td>1979-08-02</td>\n",
       "      <td>Canton, OH</td>\n",
       "      <td>United States</td>\n",
       "      <td>NaN</td>\n",
       "      <td>NaN</td>\n",
       "      <td>NaN</td>\n",
       "      <td>NaN</td>\n",
       "      <td>Fatal(1)</td>\n",
       "      <td>Destroyed</td>\n",
       "      <td>NaN</td>\n",
       "      <td>N15NY</td>\n",
       "      <td>Cessna</td>\n",
       "      <td>501</td>\n",
       "      <td>No</td>\n",
       "      <td>NaN</td>\n",
       "      <td>NaN</td>\n",
       "      <td>NaN</td>\n",
       "      <td>NaN</td>\n",
       "      <td>Personal</td>\n",
       "      <td>NaN</td>\n",
       "      <td>1.0</td>\n",
       "      <td>2.0</td>\n",
       "      <td>NaN</td>\n",
       "      <td>0.0</td>\n",
       "      <td>VMC</td>\n",
       "      <td>Approach</td>\n",
       "      <td>Probable Cause</td>\n",
       "      <td>16-04-1980</td>\n",
       "    </tr>\n",
       "  </tbody>\n",
       "</table>\n",
       "</div>"
      ],
      "text/plain": [
       "         Event.Id Investigation.Type Accident.Number  Event.Date  \\\n",
       "0  20001218X45444           Accident      SEA87LA080  1948-10-24   \n",
       "1  20001218X45447           Accident      LAX94LA336  1962-07-19   \n",
       "2  20061025X01555           Accident      NYC07LA005  1974-08-30   \n",
       "3  20001218X45448           Accident      LAX96LA321  1977-06-19   \n",
       "4  20041105X01764           Accident      CHI79FA064  1979-08-02   \n",
       "\n",
       "          Location        Country   Latitude   Longitude Airport.Code  \\\n",
       "0  MOOSE CREEK, ID  United States        NaN         NaN          NaN   \n",
       "1   BRIDGEPORT, CA  United States        NaN         NaN          NaN   \n",
       "2    Saltville, VA  United States  36.922223  -81.878056          NaN   \n",
       "3       EUREKA, CA  United States        NaN         NaN          NaN   \n",
       "4       Canton, OH  United States        NaN         NaN          NaN   \n",
       "\n",
       "  Airport.Name Injury.Severity Aircraft.damage Aircraft.Category  \\\n",
       "0          NaN        Fatal(2)       Destroyed               NaN   \n",
       "1          NaN        Fatal(4)       Destroyed               NaN   \n",
       "2          NaN        Fatal(3)       Destroyed               NaN   \n",
       "3          NaN        Fatal(2)       Destroyed               NaN   \n",
       "4          NaN        Fatal(1)       Destroyed               NaN   \n",
       "\n",
       "  Registration.Number      Make     Model Amateur.Built  Number.of.Engines  \\\n",
       "0              NC6404   Stinson     108-3            No                1.0   \n",
       "1              N5069P     Piper  PA24-180            No                1.0   \n",
       "2              N5142R    Cessna      172M            No                1.0   \n",
       "3              N1168J  Rockwell       112            No                1.0   \n",
       "4               N15NY    Cessna       501            No                NaN   \n",
       "\n",
       "     Engine.Type FAR.Description Schedule Purpose.of.flight Air.carrier  \\\n",
       "0  Reciprocating             NaN      NaN          Personal         NaN   \n",
       "1  Reciprocating             NaN      NaN          Personal         NaN   \n",
       "2  Reciprocating             NaN      NaN          Personal         NaN   \n",
       "3  Reciprocating             NaN      NaN          Personal         NaN   \n",
       "4            NaN             NaN      NaN          Personal         NaN   \n",
       "\n",
       "   Total.Fatal.Injuries  Total.Serious.Injuries  Total.Minor.Injuries  \\\n",
       "0                   2.0                     0.0                   0.0   \n",
       "1                   4.0                     0.0                   0.0   \n",
       "2                   3.0                     NaN                   NaN   \n",
       "3                   2.0                     0.0                   0.0   \n",
       "4                   1.0                     2.0                   NaN   \n",
       "\n",
       "   Total.Uninjured Weather.Condition Broad.phase.of.flight   Report.Status  \\\n",
       "0              0.0               UNK                Cruise  Probable Cause   \n",
       "1              0.0               UNK               Unknown  Probable Cause   \n",
       "2              NaN               IMC                Cruise  Probable Cause   \n",
       "3              0.0               IMC                Cruise  Probable Cause   \n",
       "4              0.0               VMC              Approach  Probable Cause   \n",
       "\n",
       "  Publication.Date  \n",
       "0              NaN  \n",
       "1       19-09-1996  \n",
       "2       26-02-2007  \n",
       "3       12-09-2000  \n",
       "4       16-04-1980  "
      ]
     },
     "execution_count": 159,
     "metadata": {},
     "output_type": "execute_result"
    }
   ],
   "source": [
    "#lets do a copy of our dataset first\n",
    "aviation = df.copy()\n",
    "#preview first 5 rows\n",
    "aviation.head()"
   ]
  },
  {
   "cell_type": "markdown",
   "metadata": {},
   "source": [
    "### a)Selecting columns that will be useful for our analysis\n"
   ]
  },
  {
   "cell_type": "code",
   "execution_count": 160,
   "metadata": {},
   "outputs": [
    {
     "data": {
      "text/plain": [
       "Index(['Event.Id', 'Investigation.Type', 'Accident.Number', 'Event.Date',\n",
       "       'Location', 'Country', 'Latitude', 'Longitude', 'Airport.Code',\n",
       "       'Airport.Name', 'Injury.Severity', 'Aircraft.damage',\n",
       "       'Aircraft.Category', 'Registration.Number', 'Make', 'Model',\n",
       "       'Amateur.Built', 'Number.of.Engines', 'Engine.Type', 'FAR.Description',\n",
       "       'Schedule', 'Purpose.of.flight', 'Air.carrier', 'Total.Fatal.Injuries',\n",
       "       'Total.Serious.Injuries', 'Total.Minor.Injuries', 'Total.Uninjured',\n",
       "       'Weather.Condition', 'Broad.phase.of.flight', 'Report.Status',\n",
       "       'Publication.Date'],\n",
       "      dtype='object')"
      ]
     },
     "execution_count": 160,
     "metadata": {},
     "output_type": "execute_result"
    }
   ],
   "source": [
    "#checking columns\n",
    "aviation.columns"
   ]
  },
  {
   "cell_type": "code",
   "execution_count": 161,
   "metadata": {},
   "outputs": [
    {
     "data": {
      "text/html": [
       "<div>\n",
       "<style scoped>\n",
       "    .dataframe tbody tr th:only-of-type {\n",
       "        vertical-align: middle;\n",
       "    }\n",
       "\n",
       "    .dataframe tbody tr th {\n",
       "        vertical-align: top;\n",
       "    }\n",
       "\n",
       "    .dataframe thead th {\n",
       "        text-align: right;\n",
       "    }\n",
       "</style>\n",
       "<table border=\"1\" class=\"dataframe\">\n",
       "  <thead>\n",
       "    <tr style=\"text-align: right;\">\n",
       "      <th></th>\n",
       "      <th>Event.Id</th>\n",
       "      <th>Investigation.Type</th>\n",
       "      <th>Accident.Number</th>\n",
       "      <th>Event.Date</th>\n",
       "      <th>Country</th>\n",
       "      <th>Injury.Severity</th>\n",
       "      <th>Aircraft.damage</th>\n",
       "      <th>Aircraft.Category</th>\n",
       "      <th>Registration.Number</th>\n",
       "      <th>Make</th>\n",
       "      <th>Model</th>\n",
       "      <th>Amateur.Built</th>\n",
       "      <th>Schedule</th>\n",
       "      <th>Purpose.of.flight</th>\n",
       "      <th>Total.Fatal.Injuries</th>\n",
       "      <th>Total.Serious.Injuries</th>\n",
       "      <th>Total.Minor.Injuries</th>\n",
       "      <th>Total.Uninjured</th>\n",
       "      <th>Weather.Condition</th>\n",
       "      <th>Broad.phase.of.flight</th>\n",
       "      <th>Report.Status</th>\n",
       "    </tr>\n",
       "  </thead>\n",
       "  <tbody>\n",
       "    <tr>\n",
       "      <th>0</th>\n",
       "      <td>20001218X45444</td>\n",
       "      <td>Accident</td>\n",
       "      <td>SEA87LA080</td>\n",
       "      <td>1948-10-24</td>\n",
       "      <td>United States</td>\n",
       "      <td>Fatal(2)</td>\n",
       "      <td>Destroyed</td>\n",
       "      <td>NaN</td>\n",
       "      <td>NC6404</td>\n",
       "      <td>Stinson</td>\n",
       "      <td>108-3</td>\n",
       "      <td>No</td>\n",
       "      <td>NaN</td>\n",
       "      <td>Personal</td>\n",
       "      <td>2.0</td>\n",
       "      <td>0.0</td>\n",
       "      <td>0.0</td>\n",
       "      <td>0.0</td>\n",
       "      <td>UNK</td>\n",
       "      <td>Cruise</td>\n",
       "      <td>Probable Cause</td>\n",
       "    </tr>\n",
       "    <tr>\n",
       "      <th>1</th>\n",
       "      <td>20001218X45447</td>\n",
       "      <td>Accident</td>\n",
       "      <td>LAX94LA336</td>\n",
       "      <td>1962-07-19</td>\n",
       "      <td>United States</td>\n",
       "      <td>Fatal(4)</td>\n",
       "      <td>Destroyed</td>\n",
       "      <td>NaN</td>\n",
       "      <td>N5069P</td>\n",
       "      <td>Piper</td>\n",
       "      <td>PA24-180</td>\n",
       "      <td>No</td>\n",
       "      <td>NaN</td>\n",
       "      <td>Personal</td>\n",
       "      <td>4.0</td>\n",
       "      <td>0.0</td>\n",
       "      <td>0.0</td>\n",
       "      <td>0.0</td>\n",
       "      <td>UNK</td>\n",
       "      <td>Unknown</td>\n",
       "      <td>Probable Cause</td>\n",
       "    </tr>\n",
       "    <tr>\n",
       "      <th>2</th>\n",
       "      <td>20061025X01555</td>\n",
       "      <td>Accident</td>\n",
       "      <td>NYC07LA005</td>\n",
       "      <td>1974-08-30</td>\n",
       "      <td>United States</td>\n",
       "      <td>Fatal(3)</td>\n",
       "      <td>Destroyed</td>\n",
       "      <td>NaN</td>\n",
       "      <td>N5142R</td>\n",
       "      <td>Cessna</td>\n",
       "      <td>172M</td>\n",
       "      <td>No</td>\n",
       "      <td>NaN</td>\n",
       "      <td>Personal</td>\n",
       "      <td>3.0</td>\n",
       "      <td>NaN</td>\n",
       "      <td>NaN</td>\n",
       "      <td>NaN</td>\n",
       "      <td>IMC</td>\n",
       "      <td>Cruise</td>\n",
       "      <td>Probable Cause</td>\n",
       "    </tr>\n",
       "    <tr>\n",
       "      <th>3</th>\n",
       "      <td>20001218X45448</td>\n",
       "      <td>Accident</td>\n",
       "      <td>LAX96LA321</td>\n",
       "      <td>1977-06-19</td>\n",
       "      <td>United States</td>\n",
       "      <td>Fatal(2)</td>\n",
       "      <td>Destroyed</td>\n",
       "      <td>NaN</td>\n",
       "      <td>N1168J</td>\n",
       "      <td>Rockwell</td>\n",
       "      <td>112</td>\n",
       "      <td>No</td>\n",
       "      <td>NaN</td>\n",
       "      <td>Personal</td>\n",
       "      <td>2.0</td>\n",
       "      <td>0.0</td>\n",
       "      <td>0.0</td>\n",
       "      <td>0.0</td>\n",
       "      <td>IMC</td>\n",
       "      <td>Cruise</td>\n",
       "      <td>Probable Cause</td>\n",
       "    </tr>\n",
       "    <tr>\n",
       "      <th>4</th>\n",
       "      <td>20041105X01764</td>\n",
       "      <td>Accident</td>\n",
       "      <td>CHI79FA064</td>\n",
       "      <td>1979-08-02</td>\n",
       "      <td>United States</td>\n",
       "      <td>Fatal(1)</td>\n",
       "      <td>Destroyed</td>\n",
       "      <td>NaN</td>\n",
       "      <td>N15NY</td>\n",
       "      <td>Cessna</td>\n",
       "      <td>501</td>\n",
       "      <td>No</td>\n",
       "      <td>NaN</td>\n",
       "      <td>Personal</td>\n",
       "      <td>1.0</td>\n",
       "      <td>2.0</td>\n",
       "      <td>NaN</td>\n",
       "      <td>0.0</td>\n",
       "      <td>VMC</td>\n",
       "      <td>Approach</td>\n",
       "      <td>Probable Cause</td>\n",
       "    </tr>\n",
       "  </tbody>\n",
       "</table>\n",
       "</div>"
      ],
      "text/plain": [
       "         Event.Id Investigation.Type Accident.Number  Event.Date  \\\n",
       "0  20001218X45444           Accident      SEA87LA080  1948-10-24   \n",
       "1  20001218X45447           Accident      LAX94LA336  1962-07-19   \n",
       "2  20061025X01555           Accident      NYC07LA005  1974-08-30   \n",
       "3  20001218X45448           Accident      LAX96LA321  1977-06-19   \n",
       "4  20041105X01764           Accident      CHI79FA064  1979-08-02   \n",
       "\n",
       "         Country Injury.Severity Aircraft.damage Aircraft.Category  \\\n",
       "0  United States        Fatal(2)       Destroyed               NaN   \n",
       "1  United States        Fatal(4)       Destroyed               NaN   \n",
       "2  United States        Fatal(3)       Destroyed               NaN   \n",
       "3  United States        Fatal(2)       Destroyed               NaN   \n",
       "4  United States        Fatal(1)       Destroyed               NaN   \n",
       "\n",
       "  Registration.Number      Make     Model Amateur.Built Schedule  \\\n",
       "0              NC6404   Stinson     108-3            No      NaN   \n",
       "1              N5069P     Piper  PA24-180            No      NaN   \n",
       "2              N5142R    Cessna      172M            No      NaN   \n",
       "3              N1168J  Rockwell       112            No      NaN   \n",
       "4               N15NY    Cessna       501            No      NaN   \n",
       "\n",
       "  Purpose.of.flight  Total.Fatal.Injuries  Total.Serious.Injuries  \\\n",
       "0          Personal                   2.0                     0.0   \n",
       "1          Personal                   4.0                     0.0   \n",
       "2          Personal                   3.0                     NaN   \n",
       "3          Personal                   2.0                     0.0   \n",
       "4          Personal                   1.0                     2.0   \n",
       "\n",
       "   Total.Minor.Injuries  Total.Uninjured Weather.Condition  \\\n",
       "0                   0.0              0.0               UNK   \n",
       "1                   0.0              0.0               UNK   \n",
       "2                   NaN              NaN               IMC   \n",
       "3                   0.0              0.0               IMC   \n",
       "4                   NaN              0.0               VMC   \n",
       "\n",
       "  Broad.phase.of.flight   Report.Status  \n",
       "0                Cruise  Probable Cause  \n",
       "1               Unknown  Probable Cause  \n",
       "2                Cruise  Probable Cause  \n",
       "3                Cruise  Probable Cause  \n",
       "4              Approach  Probable Cause  "
      ]
     },
     "execution_count": 161,
     "metadata": {},
     "output_type": "execute_result"
    }
   ],
   "source": [
    "#selecting columns we need for analysis\n",
    "aviation = aviation[['Event.Id', 'Investigation.Type', 'Accident.Number', 'Event.Date', 'Country','Injury.Severity', 'Aircraft.damage',\n",
    "       'Aircraft.Category', 'Registration.Number', 'Make', 'Model','Amateur.Built','Schedule', 'Purpose.of.flight','Total.Fatal.Injuries',\n",
    "       'Total.Serious.Injuries', 'Total.Minor.Injuries', 'Total.Uninjured',\n",
    "       'Weather.Condition', 'Broad.phase.of.flight','Report.Status']]\n",
    "#check first five rows\n",
    "aviation.head()"
   ]
  },
  {
   "cell_type": "code",
   "execution_count": 162,
   "metadata": {},
   "outputs": [
    {
     "name": "stdout",
     "output_type": "stream",
     "text": [
      "<class 'pandas.core.frame.DataFrame'>\n",
      "RangeIndex: 88889 entries, 0 to 88888\n",
      "Data columns (total 21 columns):\n",
      " #   Column                  Non-Null Count  Dtype  \n",
      "---  ------                  --------------  -----  \n",
      " 0   Event.Id                88889 non-null  object \n",
      " 1   Investigation.Type      88889 non-null  object \n",
      " 2   Accident.Number         88889 non-null  object \n",
      " 3   Event.Date              88889 non-null  object \n",
      " 4   Country                 88663 non-null  object \n",
      " 5   Injury.Severity         87889 non-null  object \n",
      " 6   Aircraft.damage         85695 non-null  object \n",
      " 7   Aircraft.Category       32287 non-null  object \n",
      " 8   Registration.Number     87572 non-null  object \n",
      " 9   Make                    88826 non-null  object \n",
      " 10  Model                   88797 non-null  object \n",
      " 11  Amateur.Built           88787 non-null  object \n",
      " 12  Schedule                12582 non-null  object \n",
      " 13  Purpose.of.flight       82697 non-null  object \n",
      " 14  Total.Fatal.Injuries    77488 non-null  float64\n",
      " 15  Total.Serious.Injuries  76379 non-null  float64\n",
      " 16  Total.Minor.Injuries    76956 non-null  float64\n",
      " 17  Total.Uninjured         82977 non-null  float64\n",
      " 18  Weather.Condition       84397 non-null  object \n",
      " 19  Broad.phase.of.flight   61724 non-null  object \n",
      " 20  Report.Status           82508 non-null  object \n",
      "dtypes: float64(4), object(17)\n",
      "memory usage: 14.2+ MB\n"
     ]
    }
   ],
   "source": [
    "#check form info the remaining no of columns\n",
    "aviation.info()"
   ]
  },
  {
   "cell_type": "markdown",
   "metadata": {},
   "source": [
    "### b)cleaning our column names\n",
    "strip of any spaces , replace  the fullstops to underscores and capitalize the columns"
   ]
  },
  {
   "cell_type": "code",
   "execution_count": 163,
   "metadata": {},
   "outputs": [
    {
     "data": {
      "text/html": [
       "<div>\n",
       "<style scoped>\n",
       "    .dataframe tbody tr th:only-of-type {\n",
       "        vertical-align: middle;\n",
       "    }\n",
       "\n",
       "    .dataframe tbody tr th {\n",
       "        vertical-align: top;\n",
       "    }\n",
       "\n",
       "    .dataframe thead th {\n",
       "        text-align: right;\n",
       "    }\n",
       "</style>\n",
       "<table border=\"1\" class=\"dataframe\">\n",
       "  <thead>\n",
       "    <tr style=\"text-align: right;\">\n",
       "      <th></th>\n",
       "      <th>EVENT_ID</th>\n",
       "      <th>INVESTIGATION_TYPE</th>\n",
       "      <th>ACCIDENT_NUMBER</th>\n",
       "      <th>EVENT_DATE</th>\n",
       "      <th>COUNTRY</th>\n",
       "      <th>INJURY_SEVERITY</th>\n",
       "      <th>AIRCRAFT_DAMAGE</th>\n",
       "      <th>AIRCRAFT_CATEGORY</th>\n",
       "      <th>REGISTRATION_NUMBER</th>\n",
       "      <th>MAKE</th>\n",
       "      <th>MODEL</th>\n",
       "      <th>AMATEUR_BUILT</th>\n",
       "      <th>SCHEDULE</th>\n",
       "      <th>PURPOSE_OF_FLIGHT</th>\n",
       "      <th>TOTAL_FATAL_INJURIES</th>\n",
       "      <th>TOTAL_SERIOUS_INJURIES</th>\n",
       "      <th>TOTAL_MINOR_INJURIES</th>\n",
       "      <th>TOTAL_UNINJURED</th>\n",
       "      <th>WEATHER_CONDITION</th>\n",
       "      <th>BROAD_PHASE_OF_FLIGHT</th>\n",
       "      <th>REPORT_STATUS</th>\n",
       "    </tr>\n",
       "  </thead>\n",
       "  <tbody>\n",
       "    <tr>\n",
       "      <th>0</th>\n",
       "      <td>20001218X45444</td>\n",
       "      <td>Accident</td>\n",
       "      <td>SEA87LA080</td>\n",
       "      <td>1948-10-24</td>\n",
       "      <td>United States</td>\n",
       "      <td>Fatal(2)</td>\n",
       "      <td>Destroyed</td>\n",
       "      <td>NaN</td>\n",
       "      <td>NC6404</td>\n",
       "      <td>Stinson</td>\n",
       "      <td>108-3</td>\n",
       "      <td>No</td>\n",
       "      <td>NaN</td>\n",
       "      <td>Personal</td>\n",
       "      <td>2.0</td>\n",
       "      <td>0.0</td>\n",
       "      <td>0.0</td>\n",
       "      <td>0.0</td>\n",
       "      <td>UNK</td>\n",
       "      <td>Cruise</td>\n",
       "      <td>Probable Cause</td>\n",
       "    </tr>\n",
       "    <tr>\n",
       "      <th>1</th>\n",
       "      <td>20001218X45447</td>\n",
       "      <td>Accident</td>\n",
       "      <td>LAX94LA336</td>\n",
       "      <td>1962-07-19</td>\n",
       "      <td>United States</td>\n",
       "      <td>Fatal(4)</td>\n",
       "      <td>Destroyed</td>\n",
       "      <td>NaN</td>\n",
       "      <td>N5069P</td>\n",
       "      <td>Piper</td>\n",
       "      <td>PA24-180</td>\n",
       "      <td>No</td>\n",
       "      <td>NaN</td>\n",
       "      <td>Personal</td>\n",
       "      <td>4.0</td>\n",
       "      <td>0.0</td>\n",
       "      <td>0.0</td>\n",
       "      <td>0.0</td>\n",
       "      <td>UNK</td>\n",
       "      <td>Unknown</td>\n",
       "      <td>Probable Cause</td>\n",
       "    </tr>\n",
       "    <tr>\n",
       "      <th>2</th>\n",
       "      <td>20061025X01555</td>\n",
       "      <td>Accident</td>\n",
       "      <td>NYC07LA005</td>\n",
       "      <td>1974-08-30</td>\n",
       "      <td>United States</td>\n",
       "      <td>Fatal(3)</td>\n",
       "      <td>Destroyed</td>\n",
       "      <td>NaN</td>\n",
       "      <td>N5142R</td>\n",
       "      <td>Cessna</td>\n",
       "      <td>172M</td>\n",
       "      <td>No</td>\n",
       "      <td>NaN</td>\n",
       "      <td>Personal</td>\n",
       "      <td>3.0</td>\n",
       "      <td>NaN</td>\n",
       "      <td>NaN</td>\n",
       "      <td>NaN</td>\n",
       "      <td>IMC</td>\n",
       "      <td>Cruise</td>\n",
       "      <td>Probable Cause</td>\n",
       "    </tr>\n",
       "    <tr>\n",
       "      <th>3</th>\n",
       "      <td>20001218X45448</td>\n",
       "      <td>Accident</td>\n",
       "      <td>LAX96LA321</td>\n",
       "      <td>1977-06-19</td>\n",
       "      <td>United States</td>\n",
       "      <td>Fatal(2)</td>\n",
       "      <td>Destroyed</td>\n",
       "      <td>NaN</td>\n",
       "      <td>N1168J</td>\n",
       "      <td>Rockwell</td>\n",
       "      <td>112</td>\n",
       "      <td>No</td>\n",
       "      <td>NaN</td>\n",
       "      <td>Personal</td>\n",
       "      <td>2.0</td>\n",
       "      <td>0.0</td>\n",
       "      <td>0.0</td>\n",
       "      <td>0.0</td>\n",
       "      <td>IMC</td>\n",
       "      <td>Cruise</td>\n",
       "      <td>Probable Cause</td>\n",
       "    </tr>\n",
       "    <tr>\n",
       "      <th>4</th>\n",
       "      <td>20041105X01764</td>\n",
       "      <td>Accident</td>\n",
       "      <td>CHI79FA064</td>\n",
       "      <td>1979-08-02</td>\n",
       "      <td>United States</td>\n",
       "      <td>Fatal(1)</td>\n",
       "      <td>Destroyed</td>\n",
       "      <td>NaN</td>\n",
       "      <td>N15NY</td>\n",
       "      <td>Cessna</td>\n",
       "      <td>501</td>\n",
       "      <td>No</td>\n",
       "      <td>NaN</td>\n",
       "      <td>Personal</td>\n",
       "      <td>1.0</td>\n",
       "      <td>2.0</td>\n",
       "      <td>NaN</td>\n",
       "      <td>0.0</td>\n",
       "      <td>VMC</td>\n",
       "      <td>Approach</td>\n",
       "      <td>Probable Cause</td>\n",
       "    </tr>\n",
       "  </tbody>\n",
       "</table>\n",
       "</div>"
      ],
      "text/plain": [
       "         EVENT_ID INVESTIGATION_TYPE ACCIDENT_NUMBER  EVENT_DATE  \\\n",
       "0  20001218X45444           Accident      SEA87LA080  1948-10-24   \n",
       "1  20001218X45447           Accident      LAX94LA336  1962-07-19   \n",
       "2  20061025X01555           Accident      NYC07LA005  1974-08-30   \n",
       "3  20001218X45448           Accident      LAX96LA321  1977-06-19   \n",
       "4  20041105X01764           Accident      CHI79FA064  1979-08-02   \n",
       "\n",
       "         COUNTRY INJURY_SEVERITY AIRCRAFT_DAMAGE AIRCRAFT_CATEGORY  \\\n",
       "0  United States        Fatal(2)       Destroyed               NaN   \n",
       "1  United States        Fatal(4)       Destroyed               NaN   \n",
       "2  United States        Fatal(3)       Destroyed               NaN   \n",
       "3  United States        Fatal(2)       Destroyed               NaN   \n",
       "4  United States        Fatal(1)       Destroyed               NaN   \n",
       "\n",
       "  REGISTRATION_NUMBER      MAKE     MODEL AMATEUR_BUILT SCHEDULE  \\\n",
       "0              NC6404   Stinson     108-3            No      NaN   \n",
       "1              N5069P     Piper  PA24-180            No      NaN   \n",
       "2              N5142R    Cessna      172M            No      NaN   \n",
       "3              N1168J  Rockwell       112            No      NaN   \n",
       "4               N15NY    Cessna       501            No      NaN   \n",
       "\n",
       "  PURPOSE_OF_FLIGHT  TOTAL_FATAL_INJURIES  TOTAL_SERIOUS_INJURIES  \\\n",
       "0          Personal                   2.0                     0.0   \n",
       "1          Personal                   4.0                     0.0   \n",
       "2          Personal                   3.0                     NaN   \n",
       "3          Personal                   2.0                     0.0   \n",
       "4          Personal                   1.0                     2.0   \n",
       "\n",
       "   TOTAL_MINOR_INJURIES  TOTAL_UNINJURED WEATHER_CONDITION  \\\n",
       "0                   0.0              0.0               UNK   \n",
       "1                   0.0              0.0               UNK   \n",
       "2                   NaN              NaN               IMC   \n",
       "3                   0.0              0.0               IMC   \n",
       "4                   NaN              0.0               VMC   \n",
       "\n",
       "  BROAD_PHASE_OF_FLIGHT   REPORT_STATUS  \n",
       "0                Cruise  Probable Cause  \n",
       "1               Unknown  Probable Cause  \n",
       "2                Cruise  Probable Cause  \n",
       "3                Cruise  Probable Cause  \n",
       "4              Approach  Probable Cause  "
      ]
     },
     "execution_count": 163,
     "metadata": {},
     "output_type": "execute_result"
    }
   ],
   "source": [
    "#we use strip to remove trailing and leading spaces, replace  method to replace 'dot(.)' with undescore(_) and upper to convert to uppercase/capitalize all \n",
    "aviation.columns = aviation.columns.str.strip().str.replace('.','_',regex=True).str.upper()\n",
    "#check first five rows and if columns have been updated\n",
    "aviation.head()"
   ]
  },
  {
   "cell_type": "markdown",
   "metadata": {},
   "source": [
    "### c)Check for missing values and how to handle them"
   ]
  },
  {
   "cell_type": "code",
   "execution_count": 164,
   "metadata": {},
   "outputs": [
    {
     "data": {
      "text/plain": [
       "EVENT_ID                      0\n",
       "INVESTIGATION_TYPE            0\n",
       "ACCIDENT_NUMBER               0\n",
       "EVENT_DATE                    0\n",
       "COUNTRY                     226\n",
       "INJURY_SEVERITY            1000\n",
       "AIRCRAFT_DAMAGE            3194\n",
       "AIRCRAFT_CATEGORY         56602\n",
       "REGISTRATION_NUMBER        1317\n",
       "MAKE                         63\n",
       "MODEL                        92\n",
       "AMATEUR_BUILT               102\n",
       "SCHEDULE                  76307\n",
       "PURPOSE_OF_FLIGHT          6192\n",
       "TOTAL_FATAL_INJURIES      11401\n",
       "TOTAL_SERIOUS_INJURIES    12510\n",
       "TOTAL_MINOR_INJURIES      11933\n",
       "TOTAL_UNINJURED            5912\n",
       "WEATHER_CONDITION          4492\n",
       "BROAD_PHASE_OF_FLIGHT     27165\n",
       "REPORT_STATUS              6381\n",
       "dtype: int64"
      ]
     },
     "execution_count": 164,
     "metadata": {},
     "output_type": "execute_result"
    }
   ],
   "source": [
    "#check the sum of missing values per column\n",
    "aviation.isna().sum()"
   ]
  },
  {
   "cell_type": "code",
   "execution_count": 165,
   "metadata": {},
   "outputs": [
    {
     "data": {
      "text/plain": [
       "Non-Fatal      67357\n",
       "Fatal(1)        6167\n",
       "Fatal           5262\n",
       "Fatal(2)        3711\n",
       "Incident        2219\n",
       "Fatal(3)        1147\n",
       "NaN             1000\n",
       "Fatal(4)         812\n",
       "Fatal(5)         235\n",
       "Minor            218\n",
       "Serious          173\n",
       "Fatal(6)         161\n",
       "Unavailable       96\n",
       "Fatal(7)          56\n",
       "Fatal(8)          51\n",
       "Fatal(10)         32\n",
       "Fatal(9)          18\n",
       "Fatal(14)         11\n",
       "Fatal(11)         10\n",
       "Fatal(13)          9\n",
       "Name: INJURY_SEVERITY, dtype: int64"
      ]
     },
     "execution_count": 165,
     "metadata": {},
     "output_type": "execute_result"
    }
   ],
   "source": [
    "#1. INJURY_SEVERITY column\n",
    "aviation['INJURY_SEVERITY'].value_counts(dropna=False).head(20) # what do the numbers with the Fatal mean?"
   ]
  },
  {
   "cell_type": "code",
   "execution_count": 166,
   "metadata": {},
   "outputs": [
    {
     "data": {
      "text/html": [
       "<div>\n",
       "<style scoped>\n",
       "    .dataframe tbody tr th:only-of-type {\n",
       "        vertical-align: middle;\n",
       "    }\n",
       "\n",
       "    .dataframe tbody tr th {\n",
       "        vertical-align: top;\n",
       "    }\n",
       "\n",
       "    .dataframe thead th {\n",
       "        text-align: right;\n",
       "    }\n",
       "</style>\n",
       "<table border=\"1\" class=\"dataframe\">\n",
       "  <thead>\n",
       "    <tr style=\"text-align: right;\">\n",
       "      <th></th>\n",
       "      <th>INJURY_SEVERITY</th>\n",
       "      <th>TOTAL_FATAL_INJURIES</th>\n",
       "    </tr>\n",
       "  </thead>\n",
       "  <tbody>\n",
       "    <tr>\n",
       "      <th>0</th>\n",
       "      <td>Fatal(2)</td>\n",
       "      <td>2.0</td>\n",
       "    </tr>\n",
       "    <tr>\n",
       "      <th>1</th>\n",
       "      <td>Fatal(4)</td>\n",
       "      <td>4.0</td>\n",
       "    </tr>\n",
       "    <tr>\n",
       "      <th>2</th>\n",
       "      <td>Fatal(3)</td>\n",
       "      <td>3.0</td>\n",
       "    </tr>\n",
       "    <tr>\n",
       "      <th>3</th>\n",
       "      <td>Fatal(2)</td>\n",
       "      <td>2.0</td>\n",
       "    </tr>\n",
       "    <tr>\n",
       "      <th>4</th>\n",
       "      <td>Fatal(1)</td>\n",
       "      <td>1.0</td>\n",
       "    </tr>\n",
       "    <tr>\n",
       "      <th>5</th>\n",
       "      <td>Non-Fatal</td>\n",
       "      <td>NaN</td>\n",
       "    </tr>\n",
       "    <tr>\n",
       "      <th>6</th>\n",
       "      <td>Fatal(4)</td>\n",
       "      <td>4.0</td>\n",
       "    </tr>\n",
       "    <tr>\n",
       "      <th>7</th>\n",
       "      <td>Non-Fatal</td>\n",
       "      <td>0.0</td>\n",
       "    </tr>\n",
       "    <tr>\n",
       "      <th>8</th>\n",
       "      <td>Non-Fatal</td>\n",
       "      <td>0.0</td>\n",
       "    </tr>\n",
       "    <tr>\n",
       "      <th>9</th>\n",
       "      <td>Non-Fatal</td>\n",
       "      <td>0.0</td>\n",
       "    </tr>\n",
       "  </tbody>\n",
       "</table>\n",
       "</div>"
      ],
      "text/plain": [
       "  INJURY_SEVERITY  TOTAL_FATAL_INJURIES\n",
       "0        Fatal(2)                   2.0\n",
       "1        Fatal(4)                   4.0\n",
       "2        Fatal(3)                   3.0\n",
       "3        Fatal(2)                   2.0\n",
       "4        Fatal(1)                   1.0\n",
       "5       Non-Fatal                   NaN\n",
       "6        Fatal(4)                   4.0\n",
       "7       Non-Fatal                   0.0\n",
       "8       Non-Fatal                   0.0\n",
       "9       Non-Fatal                   0.0"
      ]
     },
     "execution_count": 166,
     "metadata": {},
     "output_type": "execute_result"
    }
   ],
   "source": [
    "'''\n",
    "We can see a pattern here that the number on fatal correspond to the total_fatal_injuries eg Fatal(2) has fatal injuries as 2. \n",
    "Since we have the number on another column we can strip the ones on the injury _severity_column\n",
    "'''\n",
    "aviation[['INJURY_SEVERITY','TOTAL_FATAL_INJURIES']].head(10) "
   ]
  },
  {
   "cell_type": "code",
   "execution_count": 167,
   "metadata": {},
   "outputs": [],
   "source": [
    "aviation['INJURY_SEVERITY'] = aviation['INJURY_SEVERITY'].str.replace(r'\\(.*\\)','',regex=True) #remove any text within the parentheses(including the parantheses themselves)\n",
    "#we do a value count of this colun again"
   ]
  },
  {
   "cell_type": "code",
   "execution_count": 168,
   "metadata": {},
   "outputs": [
    {
     "data": {
      "text/plain": [
       "Non-Fatal      67357\n",
       "Fatal          17826\n",
       "Incident        2219\n",
       "NaN             1000\n",
       "Minor            218\n",
       "Serious          173\n",
       "Unavailable       96\n",
       "Name: INJURY_SEVERITY, dtype: int64"
      ]
     },
     "execution_count": 168,
     "metadata": {},
     "output_type": "execute_result"
    }
   ],
   "source": [
    "aviation['INJURY_SEVERITY'].value_counts(dropna=False).head(20) # we see all the fatal with brackets are now just fatal"
   ]
  },
  {
   "cell_type": "code",
   "execution_count": 169,
   "metadata": {},
   "outputs": [
    {
     "data": {
      "text/plain": [
       "0"
      ]
     },
     "execution_count": 169,
     "metadata": {},
     "output_type": "execute_result"
    }
   ],
   "source": [
    "'''\n",
    "since they are unavailable values lets fill all NaNs with this placeholder i dont want to fill with mode since these are real accidents that happened and cant says they were Non-Fatal which is the mode\n",
    " whereas some could have been fatal thats why i used placeholders instead \n",
    "'''\n",
    "aviation['INJURY_SEVERITY'] = aviation['INJURY_SEVERITY'].fillna('Unavailable')\n",
    "#we do isna for tha column\n",
    "aviation['INJURY_SEVERITY'].isna().sum()"
   ]
  },
  {
   "cell_type": "code",
   "execution_count": 170,
   "metadata": {},
   "outputs": [
    {
     "data": {
      "text/plain": [
       "Substantial    64148\n",
       "Destroyed      18623\n",
       "NaN             3194\n",
       "Minor           2805\n",
       "Unknown          119\n",
       "Name: AIRCRAFT_DAMAGE, dtype: int64"
      ]
     },
     "execution_count": 170,
     "metadata": {},
     "output_type": "execute_result"
    }
   ],
   "source": [
    "# 2. AIRCRAFT_DAMAGE\n",
    "aviation['AIRCRAFT_DAMAGE'].value_counts(dropna=False) \n"
   ]
  },
  {
   "cell_type": "code",
   "execution_count": 171,
   "metadata": {},
   "outputs": [
    {
     "data": {
      "text/plain": [
       "0"
      ]
     },
     "execution_count": 171,
     "metadata": {},
     "output_type": "execute_result"
    }
   ],
   "source": [
    "#fillna with the existing placeholder unknown\n",
    "aviation['AIRCRAFT_DAMAGE'] = aviation['AIRCRAFT_DAMAGE'].fillna('Unknown')\n",
    "#check if  NaNs have been replaced\n",
    "aviation['AIRCRAFT_DAMAGE'].isna().sum()"
   ]
  },
  {
   "cell_type": "code",
   "execution_count": 172,
   "metadata": {},
   "outputs": [
    {
     "data": {
      "text/plain": [
       "NaN                  56602\n",
       "Airplane             27617\n",
       "Helicopter            3440\n",
       "Glider                 508\n",
       "Balloon                231\n",
       "Gyrocraft              173\n",
       "Weight-Shift           161\n",
       "Powered Parachute       91\n",
       "Ultralight              30\n",
       "Unknown                 14\n",
       "WSFT                     9\n",
       "Powered-Lift             5\n",
       "Blimp                    4\n",
       "UNK                      2\n",
       "Rocket                   1\n",
       "ULTR                     1\n",
       "Name: AIRCRAFT_CATEGORY, dtype: int64"
      ]
     },
     "execution_count": 172,
     "metadata": {},
     "output_type": "execute_result"
    }
   ],
   "source": [
    "# 3. AIRCRAFT_CATEGORY\n",
    "aviation['AIRCRAFT_CATEGORY'].value_counts(dropna=False) #more than half of the data is missing(63.68%) but this column is very much needed for our analysis.Might another column help us know these values?\n",
    "#Yes from the make column but make columns has too many values so we will just keep this column as is to help us know the category when we have the make"
   ]
  },
  {
   "cell_type": "code",
   "execution_count": 173,
   "metadata": {},
   "outputs": [
    {
     "data": {
      "text/plain": [
       "0"
      ]
     },
     "execution_count": 173,
     "metadata": {},
     "output_type": "execute_result"
    }
   ],
   "source": [
    "#fill with place holder unknown \n",
    "aviation['AIRCRAFT_CATEGORY'].fillna('Unknown',inplace=True)\n",
    "#convert UNK to unkwown as well\n",
    "aviation['AIRCRAFT_CATEGORY'] = aviation['AIRCRAFT_CATEGORY'].replace('UNK','Unknown')\n",
    "#confirm missing values removed\n",
    "aviation['AIRCRAFT_CATEGORY'].isna().sum()"
   ]
  },
  {
   "cell_type": "code",
   "execution_count": 174,
   "metadata": {},
   "outputs": [
    {
     "data": {
      "text/plain": [
       "Unknown              56618\n",
       "Airplane             27617\n",
       "Helicopter            3440\n",
       "Glider                 508\n",
       "Balloon                231\n",
       "Gyrocraft              173\n",
       "Weight-Shift           161\n",
       "Powered Parachute       91\n",
       "Ultralight              30\n",
       "WSFT                     9\n",
       "Powered-Lift             5\n",
       "Blimp                    4\n",
       "Rocket                   1\n",
       "ULTR                     1\n",
       "Name: AIRCRAFT_CATEGORY, dtype: int64"
      ]
     },
     "execution_count": 174,
     "metadata": {},
     "output_type": "execute_result"
    }
   ],
   "source": [
    "aviation['AIRCRAFT_CATEGORY'].value_counts(dropna=False)"
   ]
  },
  {
   "cell_type": "code",
   "execution_count": null,
   "metadata": {},
   "outputs": [],
   "source": []
  },
  {
   "cell_type": "code",
   "execution_count": 175,
   "metadata": {},
   "outputs": [
    {
     "data": {
      "text/plain": [
       "NaN        1317\n",
       "NONE        344\n",
       "UNREG       126\n",
       "None         65\n",
       "UNK          13\n",
       "USAF          9\n",
       "N20752        8\n",
       "N53893        6\n",
       "N121CC        6\n",
       "N4101E        6\n",
       "N8402K        6\n",
       "unknown       6\n",
       "N11VH         6\n",
       "N5408Y        6\n",
       "N75LE         5\n",
       "N9957J        5\n",
       "N8653Y        5\n",
       "N32133        5\n",
       "N93067        5\n",
       "USN           5\n",
       "N5246E        5\n",
       "N420SB        5\n",
       "N3331R        5\n",
       "N8597D        5\n",
       "N3125N        5\n",
       "N99HV         5\n",
       "N89ZC         4\n",
       "N5291G        4\n",
       "N99US         4\n",
       "N99Y          4\n",
       "Name: REGISTRATION_NUMBER, dtype: int64"
      ]
     },
     "execution_count": 175,
     "metadata": {},
     "output_type": "execute_result"
    }
   ],
   "source": [
    "#4. REGISTRATION_NUMBER\n",
    "aviation['REGISTRATION_NUMBER'].value_counts(dropna=False).head(30) #data entry isuess all convert to UNK for unknown\n"
   ]
  },
  {
   "cell_type": "code",
   "execution_count": 176,
   "metadata": {},
   "outputs": [],
   "source": [
    "aviation['REGISTRATION_NUMBER'] = aviation['REGISTRATION_NUMBER'].str.replace('NONE','UNK').str.replace('None','UNK').str.replace('unknown','UNK')\n",
    "#\n",
    "#Below works as well\n",
    "# replace_values = {\n",
    "#     'unknown': 'UNK',\n",
    "#     'NONE': 'UNK',\n",
    "#     'None': 'UNK'\n",
    "# }\n",
    "# aviation['REGISTRATION_NUMBER'].replace(replace_values)"
   ]
  },
  {
   "cell_type": "code",
   "execution_count": 177,
   "metadata": {},
   "outputs": [
    {
     "data": {
      "text/plain": [
       "NaN       1317\n",
       "UNK        428\n",
       "UNREG      126\n",
       "USAF         9\n",
       "N20752       8\n",
       "          ... \n",
       "N93478       1\n",
       "N519UA       1\n",
       "N8840W       1\n",
       "N21040       1\n",
       "N9026P       1\n",
       "Name: REGISTRATION_NUMBER, Length: 79103, dtype: int64"
      ]
     },
     "execution_count": 177,
     "metadata": {},
     "output_type": "execute_result"
    }
   ],
   "source": [
    "#Do value counts again\n",
    "aviation['REGISTRATION_NUMBER'].value_counts(dropna=False)"
   ]
  },
  {
   "cell_type": "code",
   "execution_count": 178,
   "metadata": {},
   "outputs": [
    {
     "data": {
      "text/plain": [
       "0"
      ]
     },
     "execution_count": 178,
     "metadata": {},
     "output_type": "execute_result"
    }
   ],
   "source": [
    "#fillna with placeholder UNK\n",
    "aviation['REGISTRATION_NUMBER'] = aviation['REGISTRATION_NUMBER'].fillna('UNK')\n",
    "aviation['REGISTRATION_NUMBER'].isna().sum()"
   ]
  },
  {
   "cell_type": "code",
   "execution_count": 179,
   "metadata": {},
   "outputs": [
    {
     "data": {
      "text/plain": [
       "Cessna               22227\n",
       "Piper                12029\n",
       "CESSNA                4922\n",
       "Beech                 4330\n",
       "PIPER                 2841\n",
       "Bell                  2134\n",
       "Boeing                1594\n",
       "BOEING                1151\n",
       "Grumman               1094\n",
       "Mooney                1092\n",
       "BEECH                 1042\n",
       "Robinson               946\n",
       "Bellanca               886\n",
       "Hughes                 795\n",
       "Schweizer              629\n",
       "Air Tractor            595\n",
       "BELL                   588\n",
       "Mcdonnell Douglas      526\n",
       "Aeronca                487\n",
       "Maule                  445\n",
       "Name: MAKE, dtype: int64"
      ]
     },
     "execution_count": 179,
     "metadata": {},
     "output_type": "execute_result"
    }
   ],
   "source": [
    "#5)MAKE column\n",
    "aviation['MAKE'].value_counts(dropna=False).head(20)"
   ]
  },
  {
   "cell_type": "code",
   "execution_count": 180,
   "metadata": {},
   "outputs": [
    {
     "data": {
      "text/plain": [
       "Cessna               27149\n",
       "Piper                14870\n",
       "Beech                 5372\n",
       "Boeing                2745\n",
       "Bell                  2722\n",
       "Mooney                1334\n",
       "Robinson              1230\n",
       "Grumman               1172\n",
       "Bellanca              1045\n",
       "Hughes                 932\n",
       "Schweizer              773\n",
       "Air Tractor            691\n",
       "Aeronca                636\n",
       "Mcdonnell Douglas      608\n",
       "Maule                  589\n",
       "Champion               519\n",
       "Stinson                439\n",
       "Aero Commander         429\n",
       "De Havilland           422\n",
       "Luscombe               414\n",
       "Name: MAKE, dtype: int64"
      ]
     },
     "execution_count": 180,
     "metadata": {},
     "output_type": "execute_result"
    }
   ],
   "source": [
    "''' \n",
    "we notice they are  data entry issues here.\n",
    "1)we have both Cessna and CESSNA (only cases are different) , Boeing and BOEING etc\n",
    "we can convert back to title cases\n",
    "'''\n",
    "#3b) convert make to title case\n",
    "aviation['MAKE'] = aviation['MAKE'].str.title()\n",
    "#check value counts again\n",
    "aviation['MAKE'].value_counts(dropna=False).head(20) # we see they are combined into a category now"
   ]
  },
  {
   "cell_type": "code",
   "execution_count": 181,
   "metadata": {},
   "outputs": [
    {
     "data": {
      "text/plain": [
       "'Unknown'"
      ]
     },
     "execution_count": 181,
     "metadata": {},
     "output_type": "execute_result"
    }
   ],
   "source": [
    "#Check Piper make\n",
    "aviation.query('MAKE == \"Piper\" & AIRCRAFT_CATEGORY.notna()')['AIRCRAFT_CATEGORY'].value_counts()# we see all piper are airplane category\n",
    "# do a function for above to prevent repetition\n",
    "def get_category(make):\n",
    "     return aviation.query('MAKE == @make & AIRCRAFT_CATEGORY.notna()')['AIRCRAFT_CATEGORY'].value_counts().index[0]\n",
    "get_category('Bell')##Cessna,Piper,Beech\n",
    "#Bell-helicopter"
   ]
  },
  {
   "cell_type": "code",
   "execution_count": 182,
   "metadata": {},
   "outputs": [
    {
     "data": {
      "text/plain": [
       "0.0007087491140636075"
      ]
     },
     "execution_count": 182,
     "metadata": {},
     "output_type": "execute_result"
    }
   ],
   "source": [
    "#recheck to see the missing values for the make column\n",
    "aviation['MAKE'].isna().sum()/aviation.shape[0] #only 0.07% of data missing we can drop them"
   ]
  },
  {
   "cell_type": "code",
   "execution_count": 183,
   "metadata": {},
   "outputs": [],
   "source": [
    "#drop missing MAKE values\n",
    "aviation.dropna(subset=['MAKE'],inplace=True)"
   ]
  },
  {
   "cell_type": "code",
   "execution_count": 184,
   "metadata": {},
   "outputs": [
    {
     "data": {
      "text/plain": [
       "EVENT_ID                      0\n",
       "INVESTIGATION_TYPE            0\n",
       "ACCIDENT_NUMBER               0\n",
       "EVENT_DATE                    0\n",
       "COUNTRY                     225\n",
       "INJURY_SEVERITY               0\n",
       "AIRCRAFT_DAMAGE               0\n",
       "AIRCRAFT_CATEGORY             0\n",
       "REGISTRATION_NUMBER           0\n",
       "MAKE                          0\n",
       "MODEL                        49\n",
       "AMATEUR_BUILT               100\n",
       "SCHEDULE                  76283\n",
       "PURPOSE_OF_FLIGHT          6150\n",
       "TOTAL_FATAL_INJURIES      11394\n",
       "TOTAL_SERIOUS_INJURIES    12500\n",
       "TOTAL_MINOR_INJURIES      11922\n",
       "TOTAL_UNINJURED            5901\n",
       "WEATHER_CONDITION          4454\n",
       "BROAD_PHASE_OF_FLIGHT     27113\n",
       "REPORT_STATUS              6349\n",
       "dtype: int64"
      ]
     },
     "execution_count": 184,
     "metadata": {},
     "output_type": "execute_result"
    }
   ],
   "source": [
    "#)Recheck missing values for the dataset\n",
    "aviation.isna().sum()"
   ]
  },
  {
   "cell_type": "code",
   "execution_count": 185,
   "metadata": {},
   "outputs": [
    {
     "data": {
      "text/plain": [
       "152                    2367\n",
       "172                    1756\n",
       "172N                   1164\n",
       "PA-28-140               932\n",
       "150                     829\n",
       "                       ... \n",
       "SNJ-5C                    1\n",
       "QUICKSILVER SPORT 2       1\n",
       "727-2Q8                   1\n",
       "WMF                       1\n",
       "M-8 EAGLE                 1\n",
       "Name: MODEL, Length: 12312, dtype: int64"
      ]
     },
     "execution_count": 185,
     "metadata": {},
     "output_type": "execute_result"
    }
   ],
   "source": [
    "# 6. Check Model \n",
    "aviation['MODEL'].value_counts(dropna=False)"
   ]
  },
  {
   "cell_type": "code",
   "execution_count": 186,
   "metadata": {},
   "outputs": [
    {
     "name": "stdout",
     "output_type": "stream",
     "text": [
      "49\n"
     ]
    },
    {
     "data": {
      "text/plain": [
       "0.0005516402855019926"
      ]
     },
     "execution_count": 186,
     "metadata": {},
     "output_type": "execute_result"
    }
   ],
   "source": [
    "#check missing values values in the model column\n",
    "print(aviation['MODEL'].isna().sum())\n",
    "aviation['MODEL'].isna().sum()/len(aviation)"
   ]
  },
  {
   "cell_type": "code",
   "execution_count": 187,
   "metadata": {},
   "outputs": [],
   "source": [
    "'''missing values are very small we can drop them'''\n",
    "aviation.dropna(subset='MODEL',inplace=True)"
   ]
  },
  {
   "cell_type": "code",
   "execution_count": 188,
   "metadata": {},
   "outputs": [
    {
     "data": {
      "text/plain": [
       "No     80240\n",
       "Yes     8438\n",
       "NaN       99\n",
       "Name: AMATEUR_BUILT, dtype: int64"
      ]
     },
     "execution_count": 188,
     "metadata": {},
     "output_type": "execute_result"
    }
   ],
   "source": [
    "# 7.Check AMATEUR_BUILT\n",
    "aviation['AMATEUR_BUILT'].value_counts(dropna=False)"
   ]
  },
  {
   "cell_type": "code",
   "execution_count": 189,
   "metadata": {},
   "outputs": [],
   "source": [
    "#fillna with placeholder for this misisng values dont want to miss data that could be important to our analyis\n",
    "aviation['AMATEUR_BUILT'].fillna('unknown',inplace=True)"
   ]
  },
  {
   "cell_type": "code",
   "execution_count": 190,
   "metadata": {},
   "outputs": [],
   "source": [
    "# 8 Check schedule column\n",
    "aviation['SCHEDULE'].value_counts(dropna=False,normalize=True) \n",
    "''' \n",
    "we have 85% missing values, this column will not help much in our analysis so we drop it\n",
    "'''\n",
    "aviation.drop('SCHEDULE',axis=1,inplace=True)"
   ]
  },
  {
   "cell_type": "code",
   "execution_count": 191,
   "metadata": {},
   "outputs": [
    {
     "data": {
      "text/plain": [
       "Index(['EVENT_ID', 'INVESTIGATION_TYPE', 'ACCIDENT_NUMBER', 'EVENT_DATE',\n",
       "       'COUNTRY', 'INJURY_SEVERITY', 'AIRCRAFT_DAMAGE', 'AIRCRAFT_CATEGORY',\n",
       "       'REGISTRATION_NUMBER', 'MAKE', 'MODEL', 'AMATEUR_BUILT',\n",
       "       'PURPOSE_OF_FLIGHT', 'TOTAL_FATAL_INJURIES', 'TOTAL_SERIOUS_INJURIES',\n",
       "       'TOTAL_MINOR_INJURIES', 'TOTAL_UNINJURED', 'WEATHER_CONDITION',\n",
       "       'BROAD_PHASE_OF_FLIGHT', 'REPORT_STATUS'],\n",
       "      dtype='object')"
      ]
     },
     "execution_count": 191,
     "metadata": {},
     "output_type": "execute_result"
    }
   ],
   "source": [
    "#check if column has been dropped\n",
    "aviation.columns"
   ]
  },
  {
   "cell_type": "code",
   "execution_count": 192,
   "metadata": {},
   "outputs": [
    {
     "data": {
      "text/plain": [
       "Personal                     49413\n",
       "Instructional                10599\n",
       "Unknown                       6787\n",
       "NaN                           6138\n",
       "Aerial Application            4710\n",
       "Business                      4016\n",
       "Positioning                   1645\n",
       "Other Work Use                1264\n",
       "Ferry                          812\n",
       "Aerial Observation             794\n",
       "Public Aircraft                720\n",
       "Executive/corporate            553\n",
       "Flight Test                    404\n",
       "Skydiving                      182\n",
       "External Load                  123\n",
       "Public Aircraft - Federal      105\n",
       "Banner Tow                     101\n",
       "Air Race show                   99\n",
       "Public Aircraft - Local         74\n",
       "Public Aircraft - State         64\n",
       "Air Race/show                   59\n",
       "Glider Tow                      53\n",
       "Firefighting                    40\n",
       "Air Drop                        11\n",
       "ASHO                             6\n",
       "PUBS                             4\n",
       "PUBL                             1\n",
       "Name: PURPOSE_OF_FLIGHT, dtype: int64"
      ]
     },
     "execution_count": 192,
     "metadata": {},
     "output_type": "execute_result"
    }
   ],
   "source": [
    "#9 Check purpose of flight column\n",
    "aviation['PURPOSE_OF_FLIGHT'].value_counts(dropna=False) "
   ]
  },
  {
   "cell_type": "code",
   "execution_count": 193,
   "metadata": {},
   "outputs": [
    {
     "data": {
      "text/plain": [
       "0"
      ]
     },
     "execution_count": 193,
     "metadata": {},
     "output_type": "execute_result"
    }
   ],
   "source": [
    "#fill NaN with the already existing placeholder\n",
    "aviation['PURPOSE_OF_FLIGHT'].fillna('Unknown',inplace=True)\n",
    "#check if missing values removed\n",
    "aviation['PURPOSE_OF_FLIGHT'].isna().sum()"
   ]
  },
  {
   "cell_type": "code",
   "execution_count": 194,
   "metadata": {},
   "outputs": [],
   "source": [
    "''' There is a data entry issue where  Air Race show  and Air Race/show are different things\n",
    "'''\n",
    "aviation['PURPOSE_OF_FLIGHT'] = aviation['PURPOSE_OF_FLIGHT'].replace('/',' ',regex=True)"
   ]
  },
  {
   "cell_type": "code",
   "execution_count": 195,
   "metadata": {},
   "outputs": [
    {
     "data": {
      "image/png": "[encoded data removed]",
      "text/plain": [
       "<Figure size 864x576 with 1 Axes>"
      ]
     },
     "metadata": {},
     "output_type": "display_data"
    }
   ],
   "source": [
    "#10. check 'TOTAL_FATAL_INJURIES' columns\n",
    "aviation['TOTAL_FATAL_INJURIES'].plot(kind='hist');"
   ]
  },
  {
   "cell_type": "code",
   "execution_count": 196,
   "metadata": {},
   "outputs": [
    {
     "data": {
      "text/plain": [
       "<AxesSubplot:ylabel='Frequency'>"
      ]
     },
     "execution_count": 196,
     "metadata": {},
     "output_type": "execute_result"
    },
    {
     "data": {
      "image/png": "[encoded data removed]",
      "text/plain": [
       "<Figure size 864x576 with 1 Axes>"
      ]
     },
     "metadata": {},
     "output_type": "display_data"
    }
   ],
   "source": [
    "# check for values above 25\n",
    "aviation.query('TOTAL_FATAL_INJURIES >25')[['TOTAL_FATAL_INJURIES']].plot(kind='hist',bins=6)"
   ]
  },
  {
   "cell_type": "code",
   "execution_count": 197,
   "metadata": {},
   "outputs": [
    {
     "data": {
      "text/plain": [
       "11386"
      ]
     },
     "execution_count": 197,
     "metadata": {},
     "output_type": "execute_result"
    }
   ],
   "source": [
    "aviation['TOTAL_FATAL_INJURIES'].isna().sum()"
   ]
  },
  {
   "cell_type": "code",
   "execution_count": 198,
   "metadata": {},
   "outputs": [
    {
     "data": {
      "text/plain": [
       "EVENT_ID                      0\n",
       "INVESTIGATION_TYPE            0\n",
       "ACCIDENT_NUMBER               0\n",
       "EVENT_DATE                    0\n",
       "COUNTRY                     225\n",
       "INJURY_SEVERITY               0\n",
       "AIRCRAFT_DAMAGE               0\n",
       "AIRCRAFT_CATEGORY             0\n",
       "REGISTRATION_NUMBER           0\n",
       "MAKE                          0\n",
       "MODEL                         0\n",
       "AMATEUR_BUILT                 0\n",
       "PURPOSE_OF_FLIGHT             0\n",
       "TOTAL_FATAL_INJURIES      11386\n",
       "TOTAL_SERIOUS_INJURIES    12490\n",
       "TOTAL_MINOR_INJURIES      11914\n",
       "TOTAL_UNINJURED            5897\n",
       "WEATHER_CONDITION          4439\n",
       "BROAD_PHASE_OF_FLIGHT     27094\n",
       "REPORT_STATUS              6335\n",
       "dtype: int64"
      ]
     },
     "execution_count": 198,
     "metadata": {},
     "output_type": "execute_result"
    }
   ],
   "source": [
    "aviation.isna().sum()"
   ]
  },
  {
   "cell_type": "code",
   "execution_count": 199,
   "metadata": {},
   "outputs": [
    {
     "data": {
      "text/plain": [
       "<AxesSubplot:ylabel='Frequency'>"
      ]
     },
     "execution_count": 199,
     "metadata": {},
     "output_type": "execute_result"
    },
    {
     "data": {
      "image/png": "[encoded data removed]",
      "text/plain": [
       "<Figure size 864x576 with 1 Axes>"
      ]
     },
     "metadata": {},
     "output_type": "display_data"
    }
   ],
   "source": [
    "# 11. 'TOTAL_SERIOUS_INJURIES' columns\n",
    "aviation['TOTAL_SERIOUS_INJURIES'].plot(kind='hist')"
   ]
  },
  {
   "cell_type": "code",
   "execution_count": 200,
   "metadata": {},
   "outputs": [
    {
     "data": {
      "text/plain": [
       "<AxesSubplot:ylabel='Frequency'>"
      ]
     },
     "execution_count": 200,
     "metadata": {},
     "output_type": "execute_result"
    },
    {
     "data": {
      "image/png": "[encoded data removed]",
      "text/plain": [
       "<Figure size 864x576 with 1 Axes>"
      ]
     },
     "metadata": {},
     "output_type": "display_data"
    }
   ],
   "source": [
    "#hist for values above 18\n",
    "# check for values above 25\n",
    "aviation.query('TOTAL_SERIOUS_INJURIES >18')[['TOTAL_SERIOUS_INJURIES']].plot(kind='hist',bins=6)"
   ]
  },
  {
   "cell_type": "code",
   "execution_count": 201,
   "metadata": {},
   "outputs": [
    {
     "data": {
      "text/plain": [
       "<AxesSubplot:ylabel='Frequency'>"
      ]
     },
     "execution_count": 201,
     "metadata": {},
     "output_type": "execute_result"
    },
    {
     "data": {
      "image/png": "[encoded data removed]",
      "text/plain": [
       "<Figure size 864x576 with 1 Axes>"
      ]
     },
     "metadata": {},
     "output_type": "display_data"
    }
   ],
   "source": [
    "#12 'TOTAL_MINOR_INJURIES'\n",
    "aviation['TOTAL_MINOR_INJURIES'].plot(kind='hist')"
   ]
  },
  {
   "cell_type": "code",
   "execution_count": 202,
   "metadata": {},
   "outputs": [
    {
     "data": {
      "text/plain": [
       "<AxesSubplot:ylabel='Frequency'>"
      ]
     },
     "execution_count": 202,
     "metadata": {},
     "output_type": "execute_result"
    },
    {
     "data": {
      "image/png": "[encoded data removed]",
      "text/plain": [
       "<Figure size 864x576 with 1 Axes>"
      ]
     },
     "metadata": {},
     "output_type": "display_data"
    }
   ],
   "source": [
    "aviation.query('TOTAL_MINOR_INJURIES>40')['TOTAL_MINOR_INJURIES'].plot(kind='hist')"
   ]
  },
  {
   "cell_type": "code",
   "execution_count": 203,
   "metadata": {},
   "outputs": [
    {
     "data": {
      "image/png": "[encoded data removed]",
      "text/plain": [
       "<Figure size 864x576 with 1 Axes>"
      ]
     },
     "metadata": {},
     "output_type": "display_data"
    }
   ],
   "source": [
    "#13 , 'TOTAL_UNINJURED'\n",
    "aviation['TOTAL_UNINJURED'].plot(kind='hist');"
   ]
  },
  {
   "cell_type": "code",
   "execution_count": 204,
   "metadata": {},
   "outputs": [
    {
     "data": {
      "text/plain": [
       "<AxesSubplot:ylabel='Frequency'>"
      ]
     },
     "execution_count": 204,
     "metadata": {},
     "output_type": "execute_result"
    },
    {
     "data": {
      "image/png": "[encoded data removed]",
      "text/plain": [
       "<Figure size 864x576 with 1 Axes>"
      ]
     },
     "metadata": {},
     "output_type": "display_data"
    }
   ],
   "source": [
    "aviation.query('TOTAL_UNINJURED>80')['TOTAL_UNINJURED'].plot(kind='hist')"
   ]
  },
  {
   "cell_type": "code",
   "execution_count": 205,
   "metadata": {},
   "outputs": [],
   "source": [
    "'''\n",
    "All the 4 columns TOTAL_FATAL_INJURIES, TOTAL_SERIOUS_INJURIES, TOTAL_MINOR_INJURIES, TOTAL_UNINJURED are skewed postitively\n",
    "we will replace NA values with the median\n",
    "'''\n",
    "aviation['TOTAL_FATAL_INJURIES'].fillna(aviation['TOTAL_FATAL_INJURIES'].median(),inplace=True)\n",
    "aviation['TOTAL_SERIOUS_INJURIES'].fillna(aviation['TOTAL_SERIOUS_INJURIES'].median(),inplace=True)\n",
    "aviation['TOTAL_MINOR_INJURIES'].fillna(aviation['TOTAL_MINOR_INJURIES'].median(),inplace=True)\n",
    "aviation['TOTAL_UNINJURED'].fillna(aviation['TOTAL_UNINJURED'].median(),inplace=True)"
   ]
  },
  {
   "cell_type": "code",
   "execution_count": 206,
   "metadata": {},
   "outputs": [
    {
     "data": {
      "text/plain": [
       "VMC    77251\n",
       "IMC     5971\n",
       "NaN     4439\n",
       "UNK      854\n",
       "Unk      262\n",
       "Name: WEATHER_CONDITION, dtype: int64"
      ]
     },
     "execution_count": 206,
     "metadata": {},
     "output_type": "execute_result"
    }
   ],
   "source": [
    "#14 WEATHER_CONDITION columns\n",
    "aviation['WEATHER_CONDITION'].value_counts(dropna=False)"
   ]
  },
  {
   "cell_type": "code",
   "execution_count": 207,
   "metadata": {},
   "outputs": [
    {
     "data": {
      "text/plain": [
       "VMC    77251\n",
       "IMC     5971\n",
       "UNK     5555\n",
       "Name: WEATHER_CONDITION, dtype: int64"
      ]
     },
     "execution_count": 207,
     "metadata": {},
     "output_type": "execute_result"
    }
   ],
   "source": [
    "#convert to Upper case and also fillna with place holder unl\n",
    "#title\n",
    "aviation['WEATHER_CONDITION'] = aviation['WEATHER_CONDITION'].str.upper()\n",
    "#fillna with  place holder 'UNK'\n",
    "aviation['WEATHER_CONDITION'].fillna('UNK',inplace=True)\n",
    "#check if okay\n",
    "aviation['WEATHER_CONDITION'].value_counts(dropna=False)"
   ]
  },
  {
   "cell_type": "code",
   "execution_count": 208,
   "metadata": {},
   "outputs": [
    {
     "data": {
      "text/plain": [
       "NaN            27094\n",
       "Landing        15423\n",
       "Takeoff        12481\n",
       "Cruise         10263\n",
       "Maneuvering     8138\n",
       "Approach        6538\n",
       "Climb           2031\n",
       "Taxi            1958\n",
       "Descent         1886\n",
       "Go-around       1353\n",
       "Standing         945\n",
       "Unknown          548\n",
       "Other            119\n",
       "Name: BROAD_PHASE_OF_FLIGHT, dtype: int64"
      ]
     },
     "execution_count": 208,
     "metadata": {},
     "output_type": "execute_result"
    }
   ],
   "source": [
    "#15'BROAD_PHASE_OF_FLIGHT'\n",
    "aviation['BROAD_PHASE_OF_FLIGHT'].value_counts(dropna=False)"
   ]
  },
  {
   "cell_type": "code",
   "execution_count": 209,
   "metadata": {},
   "outputs": [
    {
     "data": {
      "text/plain": [
       "Unknown        27761\n",
       "Landing        15423\n",
       "Takeoff        12481\n",
       "Cruise         10263\n",
       "Maneuvering     8138\n",
       "Approach        6538\n",
       "Climb           2031\n",
       "Taxi            1958\n",
       "Descent         1886\n",
       "Go-around       1353\n",
       "Standing         945\n",
       "Name: BROAD_PHASE_OF_FLIGHT, dtype: int64"
      ]
     },
     "execution_count": 209,
     "metadata": {},
     "output_type": "execute_result"
    }
   ],
   "source": [
    "#fill both other and Nan with place holder unknown\n",
    "#replace other to placeholder unknown\n",
    "aviation['BROAD_PHASE_OF_FLIGHT'] = aviation['BROAD_PHASE_OF_FLIGHT'].replace('Other','Unknown',regex=True)\n",
    "#fillna with unknown\n",
    "aviation['BROAD_PHASE_OF_FLIGHT'] .fillna('Unknown',inplace=True)\n",
    "#check if okay\n",
    "aviation['BROAD_PHASE_OF_FLIGHT'].value_counts(dropna=False)"
   ]
  },
  {
   "cell_type": "code",
   "execution_count": 210,
   "metadata": {},
   "outputs": [
    {
     "data": {
      "text/plain": [
       "Probable Cause                                                                                                   61713\n",
       "NaN                                                                                                               6335\n",
       "Foreign                                                                                                           1986\n",
       "<br /><br />                                                                                                       167\n",
       "Factual                                                                                                            145\n",
       "The pilot's failure to maintain directional control during the landing roll.                                        56\n",
       "A loss of engine power for undetermined reasons.                                                                    52\n",
       "The pilot's failure to maintain directional control during landing.                                                 44\n",
       "A total loss of engine power for undetermined reasons.                                                              39\n",
       "The loss of engine power for undetermined reasons.                                                                  29\n",
       "The pilots failure to maintain directional control during the landing roll.\\r\\n\\r                                  21\n",
       "The pilot's improper recovery from a bounced landing.                                                               19\n",
       "The pilots failure to maintain directional control during the landing roll.                                        19\n",
       "The pilot's failure to maintain directional control during takeoff.                                                 17\n",
       "The pilot's failure to maintain directional control of the airplane during landing.                                 17\n",
       "None.                                                                                                               17\n",
       "The pilots failure to maintain directional control during landing.                                                 16\n",
       "The pilot's improper landing flare, which resulted in a hard landing.                                               16\n",
       "The student pilot's improper recovery from a bounced landing.                                                       16\n",
       "The pilot's failure to maintain directional control during the takeoff roll.                                        15\n",
       "Preliminary                                                                                                         15\n",
       ".                                                                                                                   15\n",
       "The pilots failure to maintain directional control during landing.\\r\\n\\r                                           12\n",
       "A partial loss of engine power for undetermined reasons.                                                            12\n",
       "The pilot's improper fuel management, which resulted in a loss of engine power due to fuel exhaustion.              11\n",
       "The student pilot's improper flare, which resulted in a hard landing.                                               10\n",
       "The pilots improper landing flare, which resulted in a hard landing.\\r\\n\\r                                         10\n",
       "The pilot's failure to maintain directional control during the landing roll, which resulted in a ground loop.        9\n",
       "The pilots improper fuel management, which resulted in a loss of engine power due to fuel exhaustion.               9\n",
       "The student pilot's failure to maintain directional control during takeoff.                                          9\n",
       "Name: REPORT_STATUS, dtype: int64"
      ]
     },
     "execution_count": 210,
     "metadata": {},
     "output_type": "execute_result"
    }
   ],
   "source": [
    "#16. REPORT_STATUS\n",
    "aviation['REPORT_STATUS'].value_counts(dropna=False).head(30)"
   ]
  },
  {
   "cell_type": "code",
   "execution_count": 211,
   "metadata": {},
   "outputs": [
    {
     "data": {
      "text/plain": [
       "Index(['EVENT_ID', 'INVESTIGATION_TYPE', 'ACCIDENT_NUMBER', 'EVENT_DATE',\n",
       "       'COUNTRY', 'INJURY_SEVERITY', 'AIRCRAFT_DAMAGE', 'AIRCRAFT_CATEGORY',\n",
       "       'REGISTRATION_NUMBER', 'MAKE', 'MODEL', 'AMATEUR_BUILT',\n",
       "       'PURPOSE_OF_FLIGHT', 'TOTAL_FATAL_INJURIES', 'TOTAL_SERIOUS_INJURIES',\n",
       "       'TOTAL_MINOR_INJURIES', 'TOTAL_UNINJURED', 'WEATHER_CONDITION',\n",
       "       'BROAD_PHASE_OF_FLIGHT', 'REPORT_STATUS'],\n",
       "      dtype='object')"
      ]
     },
     "execution_count": 211,
     "metadata": {},
     "output_type": "execute_result"
    }
   ],
   "source": [
    "aviation.columns"
   ]
  },
  {
   "cell_type": "code",
   "execution_count": 212,
   "metadata": {},
   "outputs": [
    {
     "data": {
      "text/plain": [
       "EVENT_ID                  0.000000\n",
       "INVESTIGATION_TYPE        0.000000\n",
       "ACCIDENT_NUMBER           0.000000\n",
       "EVENT_DATE                0.000000\n",
       "COUNTRY                   0.253444\n",
       "INJURY_SEVERITY           0.000000\n",
       "AIRCRAFT_DAMAGE           0.000000\n",
       "AIRCRAFT_CATEGORY         0.000000\n",
       "REGISTRATION_NUMBER       0.000000\n",
       "MAKE                      0.000000\n",
       "MODEL                     0.000000\n",
       "AMATEUR_BUILT             0.000000\n",
       "PURPOSE_OF_FLIGHT         0.000000\n",
       "TOTAL_FATAL_INJURIES      0.000000\n",
       "TOTAL_SERIOUS_INJURIES    0.000000\n",
       "TOTAL_MINOR_INJURIES      0.000000\n",
       "TOTAL_UNINJURED           0.000000\n",
       "WEATHER_CONDITION         0.000000\n",
       "BROAD_PHASE_OF_FLIGHT     0.000000\n",
       "REPORT_STATUS             7.135857\n",
       "dtype: float64"
      ]
     },
     "execution_count": 212,
     "metadata": {},
     "output_type": "execute_result"
    }
   ],
   "source": [
    "aviation.isna().sum()*100/len(aviation)"
   ]
  },
  {
   "cell_type": "code",
   "execution_count": 213,
   "metadata": {},
   "outputs": [],
   "source": [
    "#update missing to None\n",
    "aviation['REPORT_STATUS'].fillna('None',inplace=True)"
   ]
  },
  {
   "cell_type": "code",
   "execution_count": 214,
   "metadata": {},
   "outputs": [
    {
     "data": {
      "text/plain": [
       "United States         0.925882\n",
       "Brazil                0.004168\n",
       "Mexico                0.004021\n",
       "Canada                0.003999\n",
       "United Kingdom        0.003875\n",
       "Australia             0.003345\n",
       "France                0.002647\n",
       "NaN                   0.002534\n",
       "Spain                 0.002523\n",
       "Bahamas               0.002433\n",
       "Germany               0.002354\n",
       "Colombia              0.002151\n",
       "South Africa          0.001442\n",
       "Japan                 0.001408\n",
       "Venezuela             0.001352\n",
       "Argentina             0.001250\n",
       "Italy                 0.001250\n",
       "Indonesia             0.001228\n",
       "India                 0.001081\n",
       "Peru                  0.001048\n",
       "Russia                0.001025\n",
       "ATLANTIC OCEAN        0.000912\n",
       "Ireland               0.000867\n",
       "Puerto Rico           0.000800\n",
       "Dominican Republic    0.000766\n",
       "Guatemala             0.000755\n",
       "China                 0.000755\n",
       "Eswatini              0.000687\n",
       "New Zealand           0.000631\n",
       "Sweden                0.000631\n",
       "Name: COUNTRY, dtype: float64"
      ]
     },
     "execution_count": 214,
     "metadata": {},
     "output_type": "execute_result"
    }
   ],
   "source": [
    "#17. Country column\n",
    "aviation['COUNTRY'].value_counts(dropna=False,normalize=True).head(30)\n"
   ]
  },
  {
   "cell_type": "code",
   "execution_count": 215,
   "metadata": {},
   "outputs": [],
   "source": [
    "#fill with a placeholder unknown\n",
    "aviation['COUNTRY'].fillna('unknown',inplace=True)"
   ]
  },
  {
   "cell_type": "code",
   "execution_count": 216,
   "metadata": {},
   "outputs": [
    {
     "data": {
      "text/plain": [
       "EVENT_ID                  0\n",
       "INVESTIGATION_TYPE        0\n",
       "ACCIDENT_NUMBER           0\n",
       "EVENT_DATE                0\n",
       "COUNTRY                   0\n",
       "INJURY_SEVERITY           0\n",
       "AIRCRAFT_DAMAGE           0\n",
       "AIRCRAFT_CATEGORY         0\n",
       "REGISTRATION_NUMBER       0\n",
       "MAKE                      0\n",
       "MODEL                     0\n",
       "AMATEUR_BUILT             0\n",
       "PURPOSE_OF_FLIGHT         0\n",
       "TOTAL_FATAL_INJURIES      0\n",
       "TOTAL_SERIOUS_INJURIES    0\n",
       "TOTAL_MINOR_INJURIES      0\n",
       "TOTAL_UNINJURED           0\n",
       "WEATHER_CONDITION         0\n",
       "BROAD_PHASE_OF_FLIGHT     0\n",
       "REPORT_STATUS             0\n",
       "dtype: int64"
      ]
     },
     "execution_count": 216,
     "metadata": {},
     "output_type": "execute_result"
    }
   ],
   "source": [
    "aviation.isna().sum()"
   ]
  },
  {
   "cell_type": "markdown",
   "metadata": {},
   "source": [
    "### d)All missing values cleaned.Lets check for duplicates"
   ]
  },
  {
   "cell_type": "code",
   "execution_count": 217,
   "metadata": {},
   "outputs": [
    {
     "data": {
      "text/plain": [
       "0"
      ]
     },
     "execution_count": 217,
     "metadata": {},
     "output_type": "execute_result"
    }
   ],
   "source": [
    "aviation.duplicated().sum() # They are no missing values in our dataset"
   ]
  },
  {
   "cell_type": "markdown",
   "metadata": {},
   "source": [
    "### e)Check for ouliers"
   ]
  },
  {
   "cell_type": "code",
   "execution_count": 218,
   "metadata": {},
   "outputs": [
    {
     "data": {
      "image/png": "[encoded data removed]",
      "text/plain": [
       "<Figure size 864x576 with 1 Axes>"
      ]
     },
     "metadata": {},
     "output_type": "display_data"
    }
   ],
   "source": [
    "plt.figure(figsize=(12,8))\n",
    "sns.boxplot(data=aviation); #seem to be outliers for all these columns lets check by column"
   ]
  },
  {
   "cell_type": "code",
   "execution_count": 219,
   "metadata": {},
   "outputs": [
    {
     "data": {
      "image/png": "[encoded data removed]",
      "text/plain": [
       "<Figure size 864x576 with 1 Axes>"
      ]
     },
     "metadata": {},
     "output_type": "display_data"
    }
   ],
   "source": [
    "#1 total fatal injuries\n",
    "plt.figure(figsize=(12,8))\n",
    "sns.boxplot(data=aviation,y='TOTAL_FATAL_INJURIES');"
   ]
  },
  {
   "cell_type": "code",
   "execution_count": 220,
   "metadata": {},
   "outputs": [
    {
     "name": "stdout",
     "output_type": "stream",
     "text": [
      "2.0\n",
      "-3.0 5.0\n"
     ]
    }
   ],
   "source": [
    "#check outliers using IQR\n",
    "#calculate Q1 and Q3\n",
    "Q1, Q3 = aviation['TOTAL_UNINJURED'].quantile([0.25,0.75])\n",
    "#IQR\n",
    "IQR= Q3 - Q1\n",
    "print(IQR)\n",
    "lower_bound = Q1 - 1.5*IQR\n",
    "upper_bound = Q3 + 1.5*IQR\n",
    "print(lower_bound,upper_bound)"
   ]
  },
  {
   "cell_type": "code",
   "execution_count": 221,
   "metadata": {},
   "outputs": [
    {
     "data": {
      "text/plain": [
       "' \\nNo need to remove outliers since these are real numbers for real accidents that took place\\n'"
      ]
     },
     "execution_count": 221,
     "metadata": {},
     "output_type": "execute_result"
    }
   ],
   "source": [
    "\n",
    "''' \n",
    "No need to remove outliers since these are real numbers for real accidents that took place\n",
    "'''\n",
    "#aviation.query('~(TOTAL_UNINJURED <@lower_bound | TOTAL_UNINJURED >@upper_bound)')  # works as well #aviation.query('TOTAL_UNINJURED >=@lower_bound & TOTAL_UNINJURED <=@upper_bound') \n"
   ]
  },
  {
   "cell_type": "markdown",
   "metadata": {},
   "source": [
    "### f)Convert Data types"
   ]
  },
  {
   "cell_type": "code",
   "execution_count": 222,
   "metadata": {},
   "outputs": [
    {
     "data": {
      "text/plain": [
       "0    1948-10-24\n",
       "1    1962-07-19\n",
       "2    1974-08-30\n",
       "3    1977-06-19\n",
       "4    1979-08-02\n",
       "5    1979-09-17\n",
       "6    1981-08-01\n",
       "7    1982-01-01\n",
       "8    1982-01-01\n",
       "9    1982-01-01\n",
       "Name: EVENT_DATE, dtype: object"
      ]
     },
     "execution_count": 222,
     "metadata": {},
     "output_type": "execute_result"
    }
   ],
   "source": [
    "#check date column'Event Date'\n",
    "aviation['EVENT_DATE'].head(10)"
   ]
  },
  {
   "cell_type": "code",
   "execution_count": 223,
   "metadata": {},
   "outputs": [
    {
     "data": {
      "text/plain": [
       "0   1948-10-24\n",
       "1   1962-07-19\n",
       "2   1974-08-30\n",
       "3   1977-06-19\n",
       "4   1979-08-02\n",
       "5   1979-09-17\n",
       "6   1981-08-01\n",
       "7   1982-01-01\n",
       "8   1982-01-01\n",
       "9   1982-01-01\n",
       "Name: EVENT_DATE, dtype: datetime64[ns]"
      ]
     },
     "execution_count": 223,
     "metadata": {},
     "output_type": "execute_result"
    }
   ],
   "source": [
    "#convert to datetime format\n",
    "aviation['EVENT_DATE'] = pd.to_datetime(aviation['EVENT_DATE'],format='%Y-%m-%d')\n",
    "aviation['EVENT_DATE'].head(10)"
   ]
  },
  {
   "cell_type": "markdown",
   "metadata": {},
   "source": [
    "### g)Export the Cleaned dataset\n"
   ]
  },
  {
   "cell_type": "code",
   "execution_count": 224,
   "metadata": {},
   "outputs": [],
   "source": [
    "aviation.to_csv('clean_aviationData.csv',index=0)"
   ]
  },
  {
   "cell_type": "markdown",
   "metadata": {},
   "source": [
    "### 3. Importing cleaned Datasheet for EDA and Analysis"
   ]
  },
  {
   "cell_type": "code",
   "execution_count": 225,
   "metadata": {},
   "outputs": [
    {
     "data": {
      "text/html": [
       "<div>\n",
       "<style scoped>\n",
       "    .dataframe tbody tr th:only-of-type {\n",
       "        vertical-align: middle;\n",
       "    }\n",
       "\n",
       "    .dataframe tbody tr th {\n",
       "        vertical-align: top;\n",
       "    }\n",
       "\n",
       "    .dataframe thead th {\n",
       "        text-align: right;\n",
       "    }\n",
       "</style>\n",
       "<table border=\"1\" class=\"dataframe\">\n",
       "  <thead>\n",
       "    <tr style=\"text-align: right;\">\n",
       "      <th></th>\n",
       "      <th>EVENT_ID</th>\n",
       "      <th>INVESTIGATION_TYPE</th>\n",
       "      <th>ACCIDENT_NUMBER</th>\n",
       "      <th>EVENT_DATE</th>\n",
       "      <th>COUNTRY</th>\n",
       "      <th>INJURY_SEVERITY</th>\n",
       "      <th>AIRCRAFT_DAMAGE</th>\n",
       "      <th>AIRCRAFT_CATEGORY</th>\n",
       "      <th>REGISTRATION_NUMBER</th>\n",
       "      <th>MAKE</th>\n",
       "      <th>MODEL</th>\n",
       "      <th>AMATEUR_BUILT</th>\n",
       "      <th>PURPOSE_OF_FLIGHT</th>\n",
       "      <th>TOTAL_FATAL_INJURIES</th>\n",
       "      <th>TOTAL_SERIOUS_INJURIES</th>\n",
       "      <th>TOTAL_MINOR_INJURIES</th>\n",
       "      <th>TOTAL_UNINJURED</th>\n",
       "      <th>WEATHER_CONDITION</th>\n",
       "      <th>BROAD_PHASE_OF_FLIGHT</th>\n",
       "      <th>REPORT_STATUS</th>\n",
       "    </tr>\n",
       "  </thead>\n",
       "  <tbody>\n",
       "    <tr>\n",
       "      <th>0</th>\n",
       "      <td>20001218X45444</td>\n",
       "      <td>Accident</td>\n",
       "      <td>SEA87LA080</td>\n",
       "      <td>1948-10-24</td>\n",
       "      <td>United States</td>\n",
       "      <td>Fatal</td>\n",
       "      <td>Destroyed</td>\n",
       "      <td>Unknown</td>\n",
       "      <td>NC6404</td>\n",
       "      <td>Stinson</td>\n",
       "      <td>108-3</td>\n",
       "      <td>No</td>\n",
       "      <td>Personal</td>\n",
       "      <td>2.0</td>\n",
       "      <td>0.0</td>\n",
       "      <td>0.0</td>\n",
       "      <td>0.0</td>\n",
       "      <td>UNK</td>\n",
       "      <td>Cruise</td>\n",
       "      <td>Probable Cause</td>\n",
       "    </tr>\n",
       "    <tr>\n",
       "      <th>1</th>\n",
       "      <td>20001218X45447</td>\n",
       "      <td>Accident</td>\n",
       "      <td>LAX94LA336</td>\n",
       "      <td>1962-07-19</td>\n",
       "      <td>United States</td>\n",
       "      <td>Fatal</td>\n",
       "      <td>Destroyed</td>\n",
       "      <td>Unknown</td>\n",
       "      <td>N5069P</td>\n",
       "      <td>Piper</td>\n",
       "      <td>PA24-180</td>\n",
       "      <td>No</td>\n",
       "      <td>Personal</td>\n",
       "      <td>4.0</td>\n",
       "      <td>0.0</td>\n",
       "      <td>0.0</td>\n",
       "      <td>0.0</td>\n",
       "      <td>UNK</td>\n",
       "      <td>Unknown</td>\n",
       "      <td>Probable Cause</td>\n",
       "    </tr>\n",
       "    <tr>\n",
       "      <th>2</th>\n",
       "      <td>20061025X01555</td>\n",
       "      <td>Accident</td>\n",
       "      <td>NYC07LA005</td>\n",
       "      <td>1974-08-30</td>\n",
       "      <td>United States</td>\n",
       "      <td>Fatal</td>\n",
       "      <td>Destroyed</td>\n",
       "      <td>Unknown</td>\n",
       "      <td>N5142R</td>\n",
       "      <td>Cessna</td>\n",
       "      <td>172M</td>\n",
       "      <td>No</td>\n",
       "      <td>Personal</td>\n",
       "      <td>3.0</td>\n",
       "      <td>0.0</td>\n",
       "      <td>0.0</td>\n",
       "      <td>1.0</td>\n",
       "      <td>IMC</td>\n",
       "      <td>Cruise</td>\n",
       "      <td>Probable Cause</td>\n",
       "    </tr>\n",
       "    <tr>\n",
       "      <th>3</th>\n",
       "      <td>20001218X45448</td>\n",
       "      <td>Accident</td>\n",
       "      <td>LAX96LA321</td>\n",
       "      <td>1977-06-19</td>\n",
       "      <td>United States</td>\n",
       "      <td>Fatal</td>\n",
       "      <td>Destroyed</td>\n",
       "      <td>Unknown</td>\n",
       "      <td>N1168J</td>\n",
       "      <td>Rockwell</td>\n",
       "      <td>112</td>\n",
       "      <td>No</td>\n",
       "      <td>Personal</td>\n",
       "      <td>2.0</td>\n",
       "      <td>0.0</td>\n",
       "      <td>0.0</td>\n",
       "      <td>0.0</td>\n",
       "      <td>IMC</td>\n",
       "      <td>Cruise</td>\n",
       "      <td>Probable Cause</td>\n",
       "    </tr>\n",
       "    <tr>\n",
       "      <th>4</th>\n",
       "      <td>20041105X01764</td>\n",
       "      <td>Accident</td>\n",
       "      <td>CHI79FA064</td>\n",
       "      <td>1979-08-02</td>\n",
       "      <td>United States</td>\n",
       "      <td>Fatal</td>\n",
       "      <td>Destroyed</td>\n",
       "      <td>Unknown</td>\n",
       "      <td>N15NY</td>\n",
       "      <td>Cessna</td>\n",
       "      <td>501</td>\n",
       "      <td>No</td>\n",
       "      <td>Personal</td>\n",
       "      <td>1.0</td>\n",
       "      <td>2.0</td>\n",
       "      <td>0.0</td>\n",
       "      <td>0.0</td>\n",
       "      <td>VMC</td>\n",
       "      <td>Approach</td>\n",
       "      <td>Probable Cause</td>\n",
       "    </tr>\n",
       "  </tbody>\n",
       "</table>\n",
       "</div>"
      ],
      "text/plain": [
       "         EVENT_ID INVESTIGATION_TYPE ACCIDENT_NUMBER  EVENT_DATE  \\\n",
       "0  20001218X45444           Accident      SEA87LA080  1948-10-24   \n",
       "1  20001218X45447           Accident      LAX94LA336  1962-07-19   \n",
       "2  20061025X01555           Accident      NYC07LA005  1974-08-30   \n",
       "3  20001218X45448           Accident      LAX96LA321  1977-06-19   \n",
       "4  20041105X01764           Accident      CHI79FA064  1979-08-02   \n",
       "\n",
       "         COUNTRY INJURY_SEVERITY AIRCRAFT_DAMAGE AIRCRAFT_CATEGORY  \\\n",
       "0  United States           Fatal       Destroyed           Unknown   \n",
       "1  United States           Fatal       Destroyed           Unknown   \n",
       "2  United States           Fatal       Destroyed           Unknown   \n",
       "3  United States           Fatal       Destroyed           Unknown   \n",
       "4  United States           Fatal       Destroyed           Unknown   \n",
       "\n",
       "  REGISTRATION_NUMBER      MAKE     MODEL AMATEUR_BUILT PURPOSE_OF_FLIGHT  \\\n",
       "0              NC6404   Stinson     108-3            No          Personal   \n",
       "1              N5069P     Piper  PA24-180            No          Personal   \n",
       "2              N5142R    Cessna      172M            No          Personal   \n",
       "3              N1168J  Rockwell       112            No          Personal   \n",
       "4               N15NY    Cessna       501            No          Personal   \n",
       "\n",
       "   TOTAL_FATAL_INJURIES  TOTAL_SERIOUS_INJURIES  TOTAL_MINOR_INJURIES  \\\n",
       "0                   2.0                     0.0                   0.0   \n",
       "1                   4.0                     0.0                   0.0   \n",
       "2                   3.0                     0.0                   0.0   \n",
       "3                   2.0                     0.0                   0.0   \n",
       "4                   1.0                     2.0                   0.0   \n",
       "\n",
       "   TOTAL_UNINJURED WEATHER_CONDITION BROAD_PHASE_OF_FLIGHT   REPORT_STATUS  \n",
       "0              0.0               UNK                Cruise  Probable Cause  \n",
       "1              0.0               UNK               Unknown  Probable Cause  \n",
       "2              1.0               IMC                Cruise  Probable Cause  \n",
       "3              0.0               IMC                Cruise  Probable Cause  \n",
       "4              0.0               VMC              Approach  Probable Cause  "
      ]
     },
     "execution_count": 225,
     "metadata": {},
     "output_type": "execute_result"
    }
   ],
   "source": [
    "clean_df = pd.read_csv('clean_aviationData.csv')\n",
    "clean_df.head()"
   ]
  },
  {
   "cell_type": "code",
   "execution_count": 226,
   "metadata": {},
   "outputs": [
    {
     "data": {
      "text/plain": [
       "EVENT_ID                  0\n",
       "INVESTIGATION_TYPE        0\n",
       "ACCIDENT_NUMBER           0\n",
       "EVENT_DATE                0\n",
       "COUNTRY                   0\n",
       "INJURY_SEVERITY           0\n",
       "AIRCRAFT_DAMAGE           0\n",
       "AIRCRAFT_CATEGORY         0\n",
       "REGISTRATION_NUMBER       0\n",
       "MAKE                      0\n",
       "MODEL                     0\n",
       "AMATEUR_BUILT             0\n",
       "PURPOSE_OF_FLIGHT         0\n",
       "TOTAL_FATAL_INJURIES      0\n",
       "TOTAL_SERIOUS_INJURIES    0\n",
       "TOTAL_MINOR_INJURIES      0\n",
       "TOTAL_UNINJURED           0\n",
       "WEATHER_CONDITION         0\n",
       "BROAD_PHASE_OF_FLIGHT     0\n",
       "REPORT_STATUS             0\n",
       "dtype: int64"
      ]
     },
     "execution_count": 226,
     "metadata": {},
     "output_type": "execute_result"
    }
   ],
   "source": [
    "#check for missing values\n",
    "clean_df.isna().sum()"
   ]
  },
  {
   "cell_type": "code",
   "execution_count": 227,
   "metadata": {},
   "outputs": [
    {
     "data": {
      "text/plain": [
       "0"
      ]
     },
     "execution_count": 227,
     "metadata": {},
     "output_type": "execute_result"
    }
   ],
   "source": [
    "#check for duplicates\n",
    "clean_df.duplicated().sum()"
   ]
  },
  {
   "cell_type": "code",
   "execution_count": 228,
   "metadata": {},
   "outputs": [
    {
     "data": {
      "text/html": [
       "<div>\n",
       "<style scoped>\n",
       "    .dataframe tbody tr th:only-of-type {\n",
       "        vertical-align: middle;\n",
       "    }\n",
       "\n",
       "    .dataframe tbody tr th {\n",
       "        vertical-align: top;\n",
       "    }\n",
       "\n",
       "    .dataframe thead th {\n",
       "        text-align: right;\n",
       "    }\n",
       "</style>\n",
       "<table border=\"1\" class=\"dataframe\">\n",
       "  <thead>\n",
       "    <tr style=\"text-align: right;\">\n",
       "      <th></th>\n",
       "      <th>EVENT_ID</th>\n",
       "      <th>INVESTIGATION_TYPE</th>\n",
       "      <th>ACCIDENT_NUMBER</th>\n",
       "      <th>EVENT_DATE</th>\n",
       "      <th>COUNTRY</th>\n",
       "      <th>INJURY_SEVERITY</th>\n",
       "      <th>AIRCRAFT_DAMAGE</th>\n",
       "      <th>AIRCRAFT_CATEGORY</th>\n",
       "      <th>REGISTRATION_NUMBER</th>\n",
       "      <th>MAKE</th>\n",
       "      <th>MODEL</th>\n",
       "      <th>AMATEUR_BUILT</th>\n",
       "      <th>PURPOSE_OF_FLIGHT</th>\n",
       "      <th>TOTAL_FATAL_INJURIES</th>\n",
       "      <th>TOTAL_SERIOUS_INJURIES</th>\n",
       "      <th>TOTAL_MINOR_INJURIES</th>\n",
       "      <th>TOTAL_UNINJURED</th>\n",
       "      <th>WEATHER_CONDITION</th>\n",
       "      <th>BROAD_PHASE_OF_FLIGHT</th>\n",
       "      <th>REPORT_STATUS</th>\n",
       "    </tr>\n",
       "  </thead>\n",
       "  <tbody>\n",
       "    <tr>\n",
       "      <th>0</th>\n",
       "      <td>20001218X45444</td>\n",
       "      <td>Accident</td>\n",
       "      <td>SEA87LA080</td>\n",
       "      <td>1948-10-24</td>\n",
       "      <td>United States</td>\n",
       "      <td>Fatal</td>\n",
       "      <td>Destroyed</td>\n",
       "      <td>Unknown</td>\n",
       "      <td>NC6404</td>\n",
       "      <td>Stinson</td>\n",
       "      <td>108-3</td>\n",
       "      <td>No</td>\n",
       "      <td>Personal</td>\n",
       "      <td>2.0</td>\n",
       "      <td>0.0</td>\n",
       "      <td>0.0</td>\n",
       "      <td>0.0</td>\n",
       "      <td>UNK</td>\n",
       "      <td>Cruise</td>\n",
       "      <td>Probable Cause</td>\n",
       "    </tr>\n",
       "    <tr>\n",
       "      <th>1</th>\n",
       "      <td>20001218X45447</td>\n",
       "      <td>Accident</td>\n",
       "      <td>LAX94LA336</td>\n",
       "      <td>1962-07-19</td>\n",
       "      <td>United States</td>\n",
       "      <td>Fatal</td>\n",
       "      <td>Destroyed</td>\n",
       "      <td>Unknown</td>\n",
       "      <td>N5069P</td>\n",
       "      <td>Piper</td>\n",
       "      <td>PA24-180</td>\n",
       "      <td>No</td>\n",
       "      <td>Personal</td>\n",
       "      <td>4.0</td>\n",
       "      <td>0.0</td>\n",
       "      <td>0.0</td>\n",
       "      <td>0.0</td>\n",
       "      <td>UNK</td>\n",
       "      <td>Unknown</td>\n",
       "      <td>Probable Cause</td>\n",
       "    </tr>\n",
       "    <tr>\n",
       "      <th>2</th>\n",
       "      <td>20061025X01555</td>\n",
       "      <td>Accident</td>\n",
       "      <td>NYC07LA005</td>\n",
       "      <td>1974-08-30</td>\n",
       "      <td>United States</td>\n",
       "      <td>Fatal</td>\n",
       "      <td>Destroyed</td>\n",
       "      <td>Unknown</td>\n",
       "      <td>N5142R</td>\n",
       "      <td>Cessna</td>\n",
       "      <td>172M</td>\n",
       "      <td>No</td>\n",
       "      <td>Personal</td>\n",
       "      <td>3.0</td>\n",
       "      <td>0.0</td>\n",
       "      <td>0.0</td>\n",
       "      <td>1.0</td>\n",
       "      <td>IMC</td>\n",
       "      <td>Cruise</td>\n",
       "      <td>Probable Cause</td>\n",
       "    </tr>\n",
       "    <tr>\n",
       "      <th>3</th>\n",
       "      <td>20001218X45448</td>\n",
       "      <td>Accident</td>\n",
       "      <td>LAX96LA321</td>\n",
       "      <td>1977-06-19</td>\n",
       "      <td>United States</td>\n",
       "      <td>Fatal</td>\n",
       "      <td>Destroyed</td>\n",
       "      <td>Unknown</td>\n",
       "      <td>N1168J</td>\n",
       "      <td>Rockwell</td>\n",
       "      <td>112</td>\n",
       "      <td>No</td>\n",
       "      <td>Personal</td>\n",
       "      <td>2.0</td>\n",
       "      <td>0.0</td>\n",
       "      <td>0.0</td>\n",
       "      <td>0.0</td>\n",
       "      <td>IMC</td>\n",
       "      <td>Cruise</td>\n",
       "      <td>Probable Cause</td>\n",
       "    </tr>\n",
       "    <tr>\n",
       "      <th>4</th>\n",
       "      <td>20041105X01764</td>\n",
       "      <td>Accident</td>\n",
       "      <td>CHI79FA064</td>\n",
       "      <td>1979-08-02</td>\n",
       "      <td>United States</td>\n",
       "      <td>Fatal</td>\n",
       "      <td>Destroyed</td>\n",
       "      <td>Unknown</td>\n",
       "      <td>N15NY</td>\n",
       "      <td>Cessna</td>\n",
       "      <td>501</td>\n",
       "      <td>No</td>\n",
       "      <td>Personal</td>\n",
       "      <td>1.0</td>\n",
       "      <td>2.0</td>\n",
       "      <td>0.0</td>\n",
       "      <td>0.0</td>\n",
       "      <td>VMC</td>\n",
       "      <td>Approach</td>\n",
       "      <td>Probable Cause</td>\n",
       "    </tr>\n",
       "  </tbody>\n",
       "</table>\n",
       "</div>"
      ],
      "text/plain": [
       "         EVENT_ID INVESTIGATION_TYPE ACCIDENT_NUMBER  EVENT_DATE  \\\n",
       "0  20001218X45444           Accident      SEA87LA080  1948-10-24   \n",
       "1  20001218X45447           Accident      LAX94LA336  1962-07-19   \n",
       "2  20061025X01555           Accident      NYC07LA005  1974-08-30   \n",
       "3  20001218X45448           Accident      LAX96LA321  1977-06-19   \n",
       "4  20041105X01764           Accident      CHI79FA064  1979-08-02   \n",
       "\n",
       "         COUNTRY INJURY_SEVERITY AIRCRAFT_DAMAGE AIRCRAFT_CATEGORY  \\\n",
       "0  United States           Fatal       Destroyed           Unknown   \n",
       "1  United States           Fatal       Destroyed           Unknown   \n",
       "2  United States           Fatal       Destroyed           Unknown   \n",
       "3  United States           Fatal       Destroyed           Unknown   \n",
       "4  United States           Fatal       Destroyed           Unknown   \n",
       "\n",
       "  REGISTRATION_NUMBER      MAKE     MODEL AMATEUR_BUILT PURPOSE_OF_FLIGHT  \\\n",
       "0              NC6404   Stinson     108-3            No          Personal   \n",
       "1              N5069P     Piper  PA24-180            No          Personal   \n",
       "2              N5142R    Cessna      172M            No          Personal   \n",
       "3              N1168J  Rockwell       112            No          Personal   \n",
       "4               N15NY    Cessna       501            No          Personal   \n",
       "\n",
       "   TOTAL_FATAL_INJURIES  TOTAL_SERIOUS_INJURIES  TOTAL_MINOR_INJURIES  \\\n",
       "0                   2.0                     0.0                   0.0   \n",
       "1                   4.0                     0.0                   0.0   \n",
       "2                   3.0                     0.0                   0.0   \n",
       "3                   2.0                     0.0                   0.0   \n",
       "4                   1.0                     2.0                   0.0   \n",
       "\n",
       "   TOTAL_UNINJURED WEATHER_CONDITION BROAD_PHASE_OF_FLIGHT   REPORT_STATUS  \n",
       "0              0.0               UNK                Cruise  Probable Cause  \n",
       "1              0.0               UNK               Unknown  Probable Cause  \n",
       "2              1.0               IMC                Cruise  Probable Cause  \n",
       "3              0.0               IMC                Cruise  Probable Cause  \n",
       "4              0.0               VMC              Approach  Probable Cause  "
      ]
     },
     "execution_count": 228,
     "metadata": {},
     "output_type": "execute_result"
    }
   ],
   "source": [
    "#do a copy of the dataframe\n",
    "aviation_data = clean_df.copy()\n",
    "aviation_data.head()"
   ]
  },
  {
   "cell_type": "markdown",
   "metadata": {},
   "source": [
    "### a)univariate Analysis"
   ]
  },
  {
   "cell_type": "markdown",
   "metadata": {},
   "source": [
    "#### i)Check investigation_type column"
   ]
  },
  {
   "cell_type": "code",
   "execution_count": 229,
   "metadata": {},
   "outputs": [],
   "source": [
    "#set figsize for all objects going forward\n",
    "sns.set_theme(rc={'figure.figsize':(12,8)})"
   ]
  },
  {
   "cell_type": "code",
   "execution_count": 230,
   "metadata": {},
   "outputs": [
    {
     "data": {
      "image/png": "[encoded data removed]",
      "text/plain": [
       "<Figure size 864x576 with 1 Axes>"
      ]
     },
     "metadata": {},
     "output_type": "display_data"
    }
   ],
   "source": [
    "sns.countplot(data=aviation_data, x='INVESTIGATION_TYPE');\n",
    "#We observe that accidents are more than incidents and by a very large percentage(96%)"
   ]
  },
  {
   "cell_type": "markdown",
   "metadata": {},
   "source": [
    "#### ii)Check injury Severity column"
   ]
  },
  {
   "cell_type": "code",
   "execution_count": 231,
   "metadata": {},
   "outputs": [
    {
     "data": {
      "image/png": "[encoded data removed]",
      "text/plain": [
       "<Figure size 864x576 with 1 Axes>"
      ]
     },
     "metadata": {},
     "output_type": "display_data"
    }
   ],
   "source": [
    "sns.countplot(data=aviation_data,x='INJURY_SEVERITY');#Non fatal was the most common injury severity followed by fatal\n",
    "# Non-Fatal Injury: Any injury from an aviation event where the person survives.\n",
    "# Fatal Injury: Death resulting from an aviation event, within 30 days.\n",
    "# Serious Injury: Severe injury requiring extensive treatment or hospitalization, without resulting in death.\n",
    "# Minor Injury: Non-life-threatening injury with minimal medical impact.\n",
    "# Incident: An event or operational issue affecting flight safety that does not result in an accident, injury, or major damage."
   ]
  },
  {
   "cell_type": "markdown",
   "metadata": {},
   "source": [
    "#### iii)Check aircraft damage"
   ]
  },
  {
   "cell_type": "code",
   "execution_count": 232,
   "metadata": {},
   "outputs": [
    {
     "data": {
      "text/plain": [
       "<AxesSubplot:xlabel='AIRCRAFT_DAMAGE', ylabel='count'>"
      ]
     },
     "execution_count": 232,
     "metadata": {},
     "output_type": "execute_result"
    },
    {
     "data": {
      "image/png": "[encoded data removed]",
      "text/plain": [
       "<Figure size 864x576 with 1 Axes>"
      ]
     },
     "metadata": {},
     "output_type": "display_data"
    }
   ],
   "source": [
    "sns.countplot(data=aviation_data,x='AIRCRAFT_DAMAGE')# substantial damage is most common\n",
    "# Destroyed: The aircraft is beyond repair and considered a total loss.\n",
    "# Substantial Damage: Major structural damage that requires significant repair, but the aircraft can eventually be restored to service.\n",
    "# Minor Damage: Superficial or minor repairs needed; the damage does not affect flight performance or safety."
   ]
  },
  {
   "cell_type": "markdown",
   "metadata": {},
   "source": [
    "#### iv)Check aircraft category"
   ]
  },
  {
   "cell_type": "code",
   "execution_count": 233,
   "metadata": {},
   "outputs": [
    {
     "data": {
      "image/png": "[encoded data removed]",
      "text/plain": [
       "<Figure size 864x576 with 1 Axes>"
      ]
     },
     "metadata": {},
     "output_type": "display_data"
    }
   ],
   "source": [
    "sns.countplot(data=aviation_data,x='AIRCRAFT_CATEGORY')\n",
    "plt.xticks(rotation=50);#Airplane Category highest followed by helicopter and lastly ULTR   "
   ]
  },
  {
   "cell_type": "markdown",
   "metadata": {},
   "source": [
    "#### v)Check amateur built column"
   ]
  },
  {
   "cell_type": "code",
   "execution_count": 234,
   "metadata": {},
   "outputs": [
    {
     "data": {
      "text/plain": [
       "<AxesSubplot:xlabel='AMATEUR_BUILT', ylabel='count'>"
      ]
     },
     "execution_count": 234,
     "metadata": {},
     "output_type": "execute_result"
    },
    {
     "data": {
      "image/png": "[encoded data removed]",
      "text/plain": [
       "<Figure size 864x576 with 1 Axes>"
      ]
     },
     "metadata": {},
     "output_type": "display_data"
    }
   ],
   "source": [
    "sns.countplot(data=aviation_data,x='AMATEUR_BUILT') #most aicrafts are not amateur built(90%)"
   ]
  },
  {
   "cell_type": "markdown",
   "metadata": {},
   "source": [
    "#### vi)Purpose of flight column"
   ]
  },
  {
   "cell_type": "code",
   "execution_count": 235,
   "metadata": {},
   "outputs": [
    {
     "data": {
      "image/png": "[encoded data removed]",
      "text/plain": [
       "<Figure size 864x576 with 1 Axes>"
      ]
     },
     "metadata": {},
     "output_type": "display_data"
    }
   ],
   "source": [
    "sns.countplot(data=aviation_data,x='PURPOSE_OF_FLIGHT') #most flights were personal(more than half) followed by business then instructional\n",
    "plt.xticks(rotation=90);"
   ]
  },
  {
   "cell_type": "markdown",
   "metadata": {},
   "source": [
    "#### vii)Check weather column"
   ]
  },
  {
   "cell_type": "code",
   "execution_count": 236,
   "metadata": {},
   "outputs": [
    {
     "data": {
      "text/plain": [
       "<AxesSubplot:xlabel='WEATHER_CONDITION', ylabel='count'>"
      ]
     },
     "execution_count": 236,
     "metadata": {},
     "output_type": "execute_result"
    },
    {
     "data": {
      "image/png": "[encoded data removed]",
      "text/plain": [
       "<Figure size 864x576 with 1 Axes>"
      ]
     },
     "metadata": {},
     "output_type": "display_data"
    }
   ],
   "source": [
    "weather_value = aviation_data['WEATHER_CONDITION'].value_counts().index\n",
    "sns.countplot(data=aviation_data,x='WEATHER_CONDITION',order=weather_value) #VMC is the most common weather condition"
   ]
  },
  {
   "cell_type": "markdown",
   "metadata": {},
   "source": [
    "#### viii)Check Broad Phase Of Flight column"
   ]
  },
  {
   "cell_type": "code",
   "execution_count": 237,
   "metadata": {},
   "outputs": [
    {
     "data": {
      "image/png": "[encoded data removed]",
      "text/plain": [
       "<Figure size 864x576 with 1 Axes>"
      ]
     },
     "metadata": {},
     "output_type": "display_data"
    }
   ],
   "source": [
    "broad_value= aviation_data['BROAD_PHASE_OF_FLIGHT'].value_counts().index\n",
    "sns.countplot(data=aviation_data,x='BROAD_PHASE_OF_FLIGHT',order=broad_value); # landing has the most cases followed by takeoff"
   ]
  },
  {
   "cell_type": "markdown",
   "metadata": {},
   "source": [
    "#### ix)Check Event Date column"
   ]
  },
  {
   "cell_type": "code",
   "execution_count": 238,
   "metadata": {},
   "outputs": [],
   "source": [
    "'''lets create column year, month and day that we could use for our analysis for this particular analysis we need year but we can just add month and day probably for later '''\n",
    "#1.Convert date to datetime format\n",
    "aviation_data['EVENT_DATE'] = pd.to_datetime(aviation_data['EVENT_DATE'])"
   ]
  },
  {
   "cell_type": "code",
   "execution_count": 239,
   "metadata": {},
   "outputs": [],
   "source": [
    "#2 get Year,Month and date column from the date\n",
    "Year = aviation_data['EVENT_DATE'].dt.year\n",
    "Month =aviation_data['EVENT_DATE'].dt.month\n",
    "Day = aviation_data['EVENT_DATE'].dt.day"
   ]
  },
  {
   "cell_type": "code",
   "execution_count": 240,
   "metadata": {},
   "outputs": [],
   "source": [
    "#3 insert this next to the Event date\n",
    "aviation_data.insert(aviation_data.columns.get_loc('EVENT_DATE')+1,'YEAR',value=Year)\n",
    "aviation_data.insert(aviation_data.columns.get_loc('EVENT_DATE')+2,'MONTH',value=Month)\n",
    "aviation_data.insert(aviation_data.columns.get_loc('EVENT_DATE')+3,'DAY',value=Day)"
   ]
  },
  {
   "cell_type": "code",
   "execution_count": 241,
   "metadata": {},
   "outputs": [
    {
     "data": {
      "text/html": [
       "<div>\n",
       "<style scoped>\n",
       "    .dataframe tbody tr th:only-of-type {\n",
       "        vertical-align: middle;\n",
       "    }\n",
       "\n",
       "    .dataframe tbody tr th {\n",
       "        vertical-align: top;\n",
       "    }\n",
       "\n",
       "    .dataframe thead th {\n",
       "        text-align: right;\n",
       "    }\n",
       "</style>\n",
       "<table border=\"1\" class=\"dataframe\">\n",
       "  <thead>\n",
       "    <tr style=\"text-align: right;\">\n",
       "      <th></th>\n",
       "      <th>EVENT_ID</th>\n",
       "      <th>INVESTIGATION_TYPE</th>\n",
       "      <th>ACCIDENT_NUMBER</th>\n",
       "      <th>EVENT_DATE</th>\n",
       "      <th>YEAR</th>\n",
       "      <th>MONTH</th>\n",
       "      <th>DAY</th>\n",
       "      <th>COUNTRY</th>\n",
       "      <th>INJURY_SEVERITY</th>\n",
       "      <th>AIRCRAFT_DAMAGE</th>\n",
       "      <th>AIRCRAFT_CATEGORY</th>\n",
       "      <th>REGISTRATION_NUMBER</th>\n",
       "      <th>MAKE</th>\n",
       "      <th>MODEL</th>\n",
       "      <th>AMATEUR_BUILT</th>\n",
       "      <th>PURPOSE_OF_FLIGHT</th>\n",
       "      <th>TOTAL_FATAL_INJURIES</th>\n",
       "      <th>TOTAL_SERIOUS_INJURIES</th>\n",
       "      <th>TOTAL_MINOR_INJURIES</th>\n",
       "      <th>TOTAL_UNINJURED</th>\n",
       "      <th>WEATHER_CONDITION</th>\n",
       "      <th>BROAD_PHASE_OF_FLIGHT</th>\n",
       "      <th>REPORT_STATUS</th>\n",
       "    </tr>\n",
       "  </thead>\n",
       "  <tbody>\n",
       "    <tr>\n",
       "      <th>0</th>\n",
       "      <td>20001218X45444</td>\n",
       "      <td>Accident</td>\n",
       "      <td>SEA87LA080</td>\n",
       "      <td>1948-10-24</td>\n",
       "      <td>1948</td>\n",
       "      <td>10</td>\n",
       "      <td>24</td>\n",
       "      <td>United States</td>\n",
       "      <td>Fatal</td>\n",
       "      <td>Destroyed</td>\n",
       "      <td>Unknown</td>\n",
       "      <td>NC6404</td>\n",
       "      <td>Stinson</td>\n",
       "      <td>108-3</td>\n",
       "      <td>No</td>\n",
       "      <td>Personal</td>\n",
       "      <td>2.0</td>\n",
       "      <td>0.0</td>\n",
       "      <td>0.0</td>\n",
       "      <td>0.0</td>\n",
       "      <td>UNK</td>\n",
       "      <td>Cruise</td>\n",
       "      <td>Probable Cause</td>\n",
       "    </tr>\n",
       "    <tr>\n",
       "      <th>1</th>\n",
       "      <td>20001218X45447</td>\n",
       "      <td>Accident</td>\n",
       "      <td>LAX94LA336</td>\n",
       "      <td>1962-07-19</td>\n",
       "      <td>1962</td>\n",
       "      <td>7</td>\n",
       "      <td>19</td>\n",
       "      <td>United States</td>\n",
       "      <td>Fatal</td>\n",
       "      <td>Destroyed</td>\n",
       "      <td>Unknown</td>\n",
       "      <td>N5069P</td>\n",
       "      <td>Piper</td>\n",
       "      <td>PA24-180</td>\n",
       "      <td>No</td>\n",
       "      <td>Personal</td>\n",
       "      <td>4.0</td>\n",
       "      <td>0.0</td>\n",
       "      <td>0.0</td>\n",
       "      <td>0.0</td>\n",
       "      <td>UNK</td>\n",
       "      <td>Unknown</td>\n",
       "      <td>Probable Cause</td>\n",
       "    </tr>\n",
       "    <tr>\n",
       "      <th>2</th>\n",
       "      <td>20061025X01555</td>\n",
       "      <td>Accident</td>\n",
       "      <td>NYC07LA005</td>\n",
       "      <td>1974-08-30</td>\n",
       "      <td>1974</td>\n",
       "      <td>8</td>\n",
       "      <td>30</td>\n",
       "      <td>United States</td>\n",
       "      <td>Fatal</td>\n",
       "      <td>Destroyed</td>\n",
       "      <td>Unknown</td>\n",
       "      <td>N5142R</td>\n",
       "      <td>Cessna</td>\n",
       "      <td>172M</td>\n",
       "      <td>No</td>\n",
       "      <td>Personal</td>\n",
       "      <td>3.0</td>\n",
       "      <td>0.0</td>\n",
       "      <td>0.0</td>\n",
       "      <td>1.0</td>\n",
       "      <td>IMC</td>\n",
       "      <td>Cruise</td>\n",
       "      <td>Probable Cause</td>\n",
       "    </tr>\n",
       "    <tr>\n",
       "      <th>3</th>\n",
       "      <td>20001218X45448</td>\n",
       "      <td>Accident</td>\n",
       "      <td>LAX96LA321</td>\n",
       "      <td>1977-06-19</td>\n",
       "      <td>1977</td>\n",
       "      <td>6</td>\n",
       "      <td>19</td>\n",
       "      <td>United States</td>\n",
       "      <td>Fatal</td>\n",
       "      <td>Destroyed</td>\n",
       "      <td>Unknown</td>\n",
       "      <td>N1168J</td>\n",
       "      <td>Rockwell</td>\n",
       "      <td>112</td>\n",
       "      <td>No</td>\n",
       "      <td>Personal</td>\n",
       "      <td>2.0</td>\n",
       "      <td>0.0</td>\n",
       "      <td>0.0</td>\n",
       "      <td>0.0</td>\n",
       "      <td>IMC</td>\n",
       "      <td>Cruise</td>\n",
       "      <td>Probable Cause</td>\n",
       "    </tr>\n",
       "    <tr>\n",
       "      <th>4</th>\n",
       "      <td>20041105X01764</td>\n",
       "      <td>Accident</td>\n",
       "      <td>CHI79FA064</td>\n",
       "      <td>1979-08-02</td>\n",
       "      <td>1979</td>\n",
       "      <td>8</td>\n",
       "      <td>2</td>\n",
       "      <td>United States</td>\n",
       "      <td>Fatal</td>\n",
       "      <td>Destroyed</td>\n",
       "      <td>Unknown</td>\n",
       "      <td>N15NY</td>\n",
       "      <td>Cessna</td>\n",
       "      <td>501</td>\n",
       "      <td>No</td>\n",
       "      <td>Personal</td>\n",
       "      <td>1.0</td>\n",
       "      <td>2.0</td>\n",
       "      <td>0.0</td>\n",
       "      <td>0.0</td>\n",
       "      <td>VMC</td>\n",
       "      <td>Approach</td>\n",
       "      <td>Probable Cause</td>\n",
       "    </tr>\n",
       "  </tbody>\n",
       "</table>\n",
       "</div>"
      ],
      "text/plain": [
       "         EVENT_ID INVESTIGATION_TYPE ACCIDENT_NUMBER EVENT_DATE  YEAR  MONTH  \\\n",
       "0  20001218X45444           Accident      SEA87LA080 1948-10-24  1948     10   \n",
       "1  20001218X45447           Accident      LAX94LA336 1962-07-19  1962      7   \n",
       "2  20061025X01555           Accident      NYC07LA005 1974-08-30  1974      8   \n",
       "3  20001218X45448           Accident      LAX96LA321 1977-06-19  1977      6   \n",
       "4  20041105X01764           Accident      CHI79FA064 1979-08-02  1979      8   \n",
       "\n",
       "   DAY        COUNTRY INJURY_SEVERITY AIRCRAFT_DAMAGE AIRCRAFT_CATEGORY  \\\n",
       "0   24  United States           Fatal       Destroyed           Unknown   \n",
       "1   19  United States           Fatal       Destroyed           Unknown   \n",
       "2   30  United States           Fatal       Destroyed           Unknown   \n",
       "3   19  United States           Fatal       Destroyed           Unknown   \n",
       "4    2  United States           Fatal       Destroyed           Unknown   \n",
       "\n",
       "  REGISTRATION_NUMBER      MAKE     MODEL AMATEUR_BUILT PURPOSE_OF_FLIGHT  \\\n",
       "0              NC6404   Stinson     108-3            No          Personal   \n",
       "1              N5069P     Piper  PA24-180            No          Personal   \n",
       "2              N5142R    Cessna      172M            No          Personal   \n",
       "3              N1168J  Rockwell       112            No          Personal   \n",
       "4               N15NY    Cessna       501            No          Personal   \n",
       "\n",
       "   TOTAL_FATAL_INJURIES  TOTAL_SERIOUS_INJURIES  TOTAL_MINOR_INJURIES  \\\n",
       "0                   2.0                     0.0                   0.0   \n",
       "1                   4.0                     0.0                   0.0   \n",
       "2                   3.0                     0.0                   0.0   \n",
       "3                   2.0                     0.0                   0.0   \n",
       "4                   1.0                     2.0                   0.0   \n",
       "\n",
       "   TOTAL_UNINJURED WEATHER_CONDITION BROAD_PHASE_OF_FLIGHT   REPORT_STATUS  \n",
       "0              0.0               UNK                Cruise  Probable Cause  \n",
       "1              0.0               UNK               Unknown  Probable Cause  \n",
       "2              1.0               IMC                Cruise  Probable Cause  \n",
       "3              0.0               IMC                Cruise  Probable Cause  \n",
       "4              0.0               VMC              Approach  Probable Cause  "
      ]
     },
     "execution_count": 241,
     "metadata": {},
     "output_type": "execute_result"
    }
   ],
   "source": [
    "#4.Check if okay\n",
    "aviation_data.head()"
   ]
  },
  {
   "cell_type": "code",
   "execution_count": 242,
   "metadata": {},
   "outputs": [
    {
     "data": {
      "image/png": "[encoded data removed]",
      "text/plain": [
       "<Figure size 864x576 with 1 Axes>"
      ]
     },
     "metadata": {},
     "output_type": "display_data"
    }
   ],
   "source": [
    "#5 plot years \n",
    "sns.countplot(data=aviation_data,x='YEAR');\n",
    "plt.xticks(rotation=90);#General decline in accidents"
   ]
  },
  {
   "cell_type": "code",
   "execution_count": 243,
   "metadata": {},
   "outputs": [
    {
     "data": {
      "image/png": "[encoded data removed]",
      "text/plain": [
       "<Figure size 864x576 with 1 Axes>"
      ]
     },
     "metadata": {},
     "output_type": "display_data"
    }
   ],
   "source": [
    "#6 plot months \n",
    "sns.countplot(data=aviation_data,x='MONTH');\n",
    "plt.xticks(rotation=90);#More accidents on the 6th,7th and 8th month#during summer"
   ]
  },
  {
   "cell_type": "code",
   "execution_count": 244,
   "metadata": {},
   "outputs": [
    {
     "data": {
      "image/png": "[encoded data removed]",
      "text/plain": [
       "<Figure size 864x576 with 1 Axes>"
      ]
     },
     "metadata": {},
     "output_type": "display_data"
    }
   ],
   "source": [
    "#5 plot days \n",
    "sns.countplot(data=aviation_data,x='DAY');\n",
    "plt.xticks(rotation=90);#no noticeable difference in days"
   ]
  },
  {
   "cell_type": "markdown",
   "metadata": {},
   "source": [
    "#### x)Summary statistics for numeric columns"
   ]
  },
  {
   "cell_type": "code",
   "execution_count": 245,
   "metadata": {},
   "outputs": [
    {
     "data": {
      "text/html": [
       "<div>\n",
       "<style scoped>\n",
       "    .dataframe tbody tr th:only-of-type {\n",
       "        vertical-align: middle;\n",
       "    }\n",
       "\n",
       "    .dataframe tbody tr th {\n",
       "        vertical-align: top;\n",
       "    }\n",
       "\n",
       "    .dataframe thead th {\n",
       "        text-align: right;\n",
       "    }\n",
       "</style>\n",
       "<table border=\"1\" class=\"dataframe\">\n",
       "  <thead>\n",
       "    <tr style=\"text-align: right;\">\n",
       "      <th></th>\n",
       "      <th>mean</th>\n",
       "      <th>median</th>\n",
       "      <th>max</th>\n",
       "      <th>min</th>\n",
       "      <th>skew</th>\n",
       "    </tr>\n",
       "  </thead>\n",
       "  <tbody>\n",
       "    <tr>\n",
       "      <th>TOTAL_FATAL_INJURIES</th>\n",
       "      <td>0.564493</td>\n",
       "      <td>0.0</td>\n",
       "      <td>349.0</td>\n",
       "      <td>0.0</td>\n",
       "      <td>35.308374</td>\n",
       "    </tr>\n",
       "    <tr>\n",
       "      <th>TOTAL_SERIOUS_INJURIES</th>\n",
       "      <td>0.240445</td>\n",
       "      <td>0.0</td>\n",
       "      <td>161.0</td>\n",
       "      <td>0.0</td>\n",
       "      <td>53.032755</td>\n",
       "    </tr>\n",
       "    <tr>\n",
       "      <th>TOTAL_MINOR_INJURIES</th>\n",
       "      <td>0.309258</td>\n",
       "      <td>0.0</td>\n",
       "      <td>380.0</td>\n",
       "      <td>0.0</td>\n",
       "      <td>93.348227</td>\n",
       "    </tr>\n",
       "    <tr>\n",
       "      <th>TOTAL_UNINJURED</th>\n",
       "      <td>5.034570</td>\n",
       "      <td>1.0</td>\n",
       "      <td>699.0</td>\n",
       "      <td>0.0</td>\n",
       "      <td>9.419666</td>\n",
       "    </tr>\n",
       "  </tbody>\n",
       "</table>\n",
       "</div>"
      ],
      "text/plain": [
       "                            mean  median    max  min       skew\n",
       "TOTAL_FATAL_INJURIES    0.564493     0.0  349.0  0.0  35.308374\n",
       "TOTAL_SERIOUS_INJURIES  0.240445     0.0  161.0  0.0  53.032755\n",
       "TOTAL_MINOR_INJURIES    0.309258     0.0  380.0  0.0  93.348227\n",
       "TOTAL_UNINJURED         5.034570     1.0  699.0  0.0   9.419666"
      ]
     },
     "execution_count": 245,
     "metadata": {},
     "output_type": "execute_result"
    }
   ],
   "source": [
    "#get mean,median and skew on Fatal,serious,minor and uninjured columns\n",
    "aviation_data[['TOTAL_FATAL_INJURIES','TOTAL_SERIOUS_INJURIES', 'TOTAL_MINOR_INJURIES', 'TOTAL_UNINJURED']].agg(['mean','median','max','min','skew']).T #data skewed positively with minor ijuries being most skewed"
   ]
  },
  {
   "cell_type": "markdown",
   "metadata": {},
   "source": [
    "### b)Bivariate Analysis"
   ]
  },
  {
   "cell_type": "markdown",
   "metadata": {},
   "source": [
    "#### i)Check date and injury severity\n"
   ]
  },
  {
   "cell_type": "code",
   "execution_count": 260,
   "metadata": {},
   "outputs": [
    {
     "data": {
      "image/png": "[encoded data removed]",
      "text/plain": [
       "<Figure size 864x576 with 1 Axes>"
      ]
     },
     "metadata": {},
     "output_type": "display_data"
    }
   ],
   "source": [
    "sns.lineplot(data=aviation_data,x='YEAR',y='TOTAL_FATAL_INJURIES',label='Fatal');\n",
    "sns.lineplot(data=aviation_data,x='YEAR',y='TOTAL_SERIOUS_INJURIES',label='Serious');\n",
    "sns.lineplot(data=aviation_data,x='YEAR',y='TOTAL_MINOR_INJURIES',label='Minor');\n",
    "\n",
    "plt.legend(title='Injury Severity')\n",
    "plt.ylabel('Injury Count',fontsize=20)\n",
    "plt.title('injury Severity by Year',fontsize=20); # we notice that Fatal injuries are more followed by minor then serious but as from aroud 2008 serious becomes more than minor injuries #why the surge in 1980 though- more accidents in the 80's but a decline as we go on \n",
    "\n"
   ]
  },
  {
   "cell_type": "code",
   "execution_count": 250,
   "metadata": {},
   "outputs": [
    {
     "data": {
      "image/png": "[encoded data removed]",
      "text/plain": [
       "<Figure size 864x576 with 1 Axes>"
      ]
     },
     "metadata": {},
     "output_type": "display_data"
    }
   ],
   "source": [
    "#uninjured\n",
    "ax= sns.lineplot(data=aviation_data,x='YEAR',y='TOTAL_UNINJURED',label='Uninjured'); #uninjured people are more as well\n"
   ]
  },
  {
   "cell_type": "markdown",
   "metadata": {},
   "source": [
    "#### ii)Injury severity by make the aircraft"
   ]
  },
  {
   "cell_type": "code",
   "execution_count": null,
   "metadata": {},
   "outputs": [],
   "source": []
  },
  {
   "cell_type": "code",
   "execution_count": null,
   "metadata": {},
   "outputs": [],
   "source": []
  },
  {
   "cell_type": "code",
   "execution_count": null,
   "metadata": {},
   "outputs": [],
   "source": []
  },
  {
   "cell_type": "code",
   "execution_count": null,
   "metadata": {},
   "outputs": [],
   "source": []
  },
  {
   "cell_type": "code",
   "execution_count": null,
   "metadata": {},
   "outputs": [],
   "source": []
  },
  {
   "cell_type": "code",
   "execution_count": null,
   "metadata": {},
   "outputs": [],
   "source": []
  },
  {
   "cell_type": "code",
   "execution_count": null,
   "metadata": {},
   "outputs": [],
   "source": []
  },
  {
   "cell_type": "code",
   "execution_count": null,
   "metadata": {},
   "outputs": [],
   "source": []
  },
  {
   "cell_type": "code",
   "execution_count": 247,
   "metadata": {},
   "outputs": [
    {
     "data": {
      "text/plain": [
       "Index(['EVENT_ID', 'INVESTIGATION_TYPE', 'ACCIDENT_NUMBER', 'EVENT_DATE',\n",
       "       'YEAR', 'MONTH', 'DAY', 'COUNTRY', 'INJURY_SEVERITY', 'AIRCRAFT_DAMAGE',\n",
       "       'AIRCRAFT_CATEGORY', 'REGISTRATION_NUMBER', 'MAKE', 'MODEL',\n",
       "       'AMATEUR_BUILT', 'PURPOSE_OF_FLIGHT', 'TOTAL_FATAL_INJURIES',\n",
       "       'TOTAL_SERIOUS_INJURIES', 'TOTAL_MINOR_INJURIES', 'TOTAL_UNINJURED',\n",
       "       'WEATHER_CONDITION', 'BROAD_PHASE_OF_FLIGHT', 'REPORT_STATUS'],\n",
       "      dtype='object')"
      ]
     },
     "execution_count": 247,
     "metadata": {},
     "output_type": "execute_result"
    }
   ],
   "source": [
    "aviation_data.columns"
   ]
  },
  {
   "cell_type": "code",
   "execution_count": null,
   "metadata": {},
   "outputs": [],
   "source": []
  },
  {
   "cell_type": "code",
   "execution_count": null,
   "metadata": {},
   "outputs": [],
   "source": []
  },
  {
   "cell_type": "code",
   "execution_count": null,
   "metadata": {},
   "outputs": [],
   "source": []
  },
  {
   "cell_type": "code",
   "execution_count": null,
   "metadata": {},
   "outputs": [],
   "source": []
  },
  {
   "cell_type": "code",
   "execution_count": null,
   "metadata": {},
   "outputs": [],
   "source": []
  },
  {
   "cell_type": "code",
   "execution_count": 248,
   "metadata": {},
   "outputs": [
    {
     "name": "stdout",
     "output_type": "stream",
     "text": [
      "<class 'pandas.core.frame.DataFrame'>\n",
      "RangeIndex: 88777 entries, 0 to 88776\n",
      "Data columns (total 23 columns):\n",
      " #   Column                  Non-Null Count  Dtype         \n",
      "---  ------                  --------------  -----         \n",
      " 0   EVENT_ID                88777 non-null  object        \n",
      " 1   INVESTIGATION_TYPE      88777 non-null  object        \n",
      " 2   ACCIDENT_NUMBER         88777 non-null  object        \n",
      " 3   EVENT_DATE              88777 non-null  datetime64[ns]\n",
      " 4   YEAR                    88777 non-null  int64         \n",
      " 5   MONTH                   88777 non-null  int64         \n",
      " 6   DAY                     88777 non-null  int64         \n",
      " 7   COUNTRY                 88777 non-null  object        \n",
      " 8   INJURY_SEVERITY         88777 non-null  object        \n",
      " 9   AIRCRAFT_DAMAGE         88777 non-null  object        \n",
      " 10  AIRCRAFT_CATEGORY       88777 non-null  object        \n",
      " 11  REGISTRATION_NUMBER     88777 non-null  object        \n",
      " 12  MAKE                    88777 non-null  object        \n",
      " 13  MODEL                   88777 non-null  object        \n",
      " 14  AMATEUR_BUILT           88777 non-null  object        \n",
      " 15  PURPOSE_OF_FLIGHT       88777 non-null  object        \n",
      " 16  TOTAL_FATAL_INJURIES    88777 non-null  float64       \n",
      " 17  TOTAL_SERIOUS_INJURIES  88777 non-null  float64       \n",
      " 18  TOTAL_MINOR_INJURIES    88777 non-null  float64       \n",
      " 19  TOTAL_UNINJURED         88777 non-null  float64       \n",
      " 20  WEATHER_CONDITION       88777 non-null  object        \n",
      " 21  BROAD_PHASE_OF_FLIGHT   88777 non-null  object        \n",
      " 22  REPORT_STATUS           88777 non-null  object        \n",
      "dtypes: datetime64[ns](1), float64(4), int64(3), object(15)\n",
      "memory usage: 15.6+ MB\n"
     ]
    }
   ],
   "source": [
    "aviation_data.info()"
   ]
  },
  {
   "cell_type": "code",
   "execution_count": null,
   "metadata": {},
   "outputs": [],
   "source": []
  }
 ],
 "metadata": {
  "kernelspec": {
   "display_name": "learn-env",
   "language": "python",
   "name": "python3"
  },
  "language_info": {
   "codemirror_mode": {
    "name": "ipython",
    "version": 3
   },
   "file_extension": ".py",
   "mimetype": "text/x-python",
   "name": "python",
   "nbconvert_exporter": "python",
   "pygments_lexer": "ipython3",
   "version": "3.8.5"
  }
 },
 "nbformat": 4,
 "nbformat_minor": 2
}
